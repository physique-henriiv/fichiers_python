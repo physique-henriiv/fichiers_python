{
 "cells": [
  {
   "cell_type": "markdown",
   "metadata": {
    "editable": true,
    "jupyter": {
     "source_hidden": true
    },
    "slideshow": {
     "slide_type": ""
    },
    "tags": []
   },
   "source": [
    "On commence par importer les bibliothèques nécessaires. Attention : NE PAS EFFACER !"
   ]
  },
  {
   "cell_type": "code",
   "execution_count": null,
   "metadata": {
    "editable": true,
    "slideshow": {
     "slide_type": ""
    },
    "tags": [
     "remove_cell"
    ]
   },
   "outputs": [],
   "source": [
    "%run Import_bibliotheques.ipynb"
   ]
  },
  {
   "cell_type": "markdown",
   "metadata": {},
   "source": [
    "L'équation de réaction chimique traitée est du type (à adapter en fonction du cas traité) :\n",
    "\n",
    "$$aA + bB \\rightarrow cC + dD$$\n",
    "\n",
    "Entrer les formules chimiques des espèces en présence :"
   ]
  },
  {
   "cell_type": "code",
   "execution_count": null,
   "metadata": {},
   "outputs": [],
   "source": [
    "A = \"\"\n",
    "B = \"\"\n",
    "C = \"\"\n",
    "D = \"\""
   ]
  },
  {
   "cell_type": "markdown",
   "metadata": {},
   "source": [
    "Entrer les nombres stoechiométriques de l'équation :"
   ]
  },
  {
   "cell_type": "code",
   "execution_count": null,
   "metadata": {},
   "outputs": [],
   "source": [
    "a = \n",
    "b = \n",
    "c = \n",
    "d = "
   ]
  },
  {
   "cell_type": "markdown",
   "metadata": {},
   "source": [
    "Entrer les quantités initiales de réactifs et de produits (en mol) :"
   ]
  },
  {
   "cell_type": "code",
   "execution_count": null,
   "metadata": {},
   "outputs": [],
   "source": [
    "nAi = \n",
    "nBi = \n",
    "nCi = \n",
    "nDi = "
   ]
  },
  {
   "cell_type": "raw",
   "metadata": {
    "jupyter": {
     "source_hidden": true
    },
    "tags": []
   },
   "source": [
    "La notation entre crochets représente des listes d'éléments en python :\n",
    "listex=[x] est une liste contenant un seul élément (x) et nommée listex.\n",
    "La fonction append (listex.append(x)) ajoute un élément à la fin de la liste : ici l'élément x est ajouté à la fin de la liste listex.\n",
    "\n",
    "La notation entre guillemets \"\" représente un texte (conclusion=\"\" est une chaîne de caractères vide appelée conclusion).\n",
    "On peut y ajouter des éléments de texte comme on fait une addition : conclusion+=\"la suite\" ajoute le texte \"la suite\" à la fin de la chaîne conclusion.\n",
    "Le symbole f devant les guillemets permet de remplacer le nom d'une variable placée entre accolades {} par la valeur de cette variable.\n",
    "Dans les chaînes de caractères, on peut placer des équations utilisant la syntaxe LaTeX entre dollars $$.\n",
    "La balise <br/> est un signe de retour à la ligne en HTML."
   ]
  },
  {
   "cell_type": "markdown",
   "metadata": {},
   "source": [
    "Calcul de l'avancement final :"
   ]
  },
  {
   "cell_type": "code",
   "execution_count": null,
   "metadata": {},
   "outputs": [],
   "source": [
    "xf = min([nAi / a, nBi / b])\n",
    "nAf = nAi - a * xf\n",
    "nBf = nBi - b * xf\n",
    "nCf = nCi + c * xf\n",
    "nDf = nDi + d * xf"
   ]
  },
  {
   "cell_type": "markdown",
   "metadata": {},
   "source": [
    "Affichage des valeurs finales :"
   ]
  },
  {
   "cell_type": "code",
   "execution_count": null,
   "metadata": {},
   "outputs": [],
   "source": [
    "resultat = f\"\"\"\n",
    "xf = {xf:.3} mol\n",
    "n{A},f = {nAf:.3} mol\n",
    "n{B},f = {nBf:.3} mol\n",
    "n{C},f = {nCf:.3} mol\n",
    "n{D},f = {nDf:.3} mol\n",
    "\"\"\"\n",
    "print(resultat)"
   ]
  }
 ],
 "metadata": {
  "kernelspec": {
   "display_name": "Python 3 (ipykernel)",
   "language": "python",
   "name": "python3"
  },
  "language_info": {
   "codemirror_mode": {
    "name": "ipython",
    "version": 3
   },
   "file_extension": ".py",
   "mimetype": "text/x-python",
   "name": "python",
   "nbconvert_exporter": "python",
   "pygments_lexer": "ipython3",
   "version": "3.10.12"
  },
  "widgets": {
   "application/vnd.jupyter.widget-state+json": {
    "state": {},
    "version_major": 2,
    "version_minor": 0
   }
  }
 },
 "nbformat": 4,
 "nbformat_minor": 4
}
