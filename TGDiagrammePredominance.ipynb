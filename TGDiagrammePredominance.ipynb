{
 "cells": [
  {
   "cell_type": "markdown",
   "metadata": {
    "editable": true,
    "slideshow": {
     "slide_type": ""
    },
    "tags": []
   },
   "source": [
    "On commence par importer les bibliothèques nécessaires. Attention : NE PAS EFFACER !"
   ]
  },
  {
   "cell_type": "code",
   "execution_count": null,
   "metadata": {
    "editable": true,
    "slideshow": {
     "slide_type": ""
    },
    "tags": []
   },
   "outputs": [],
   "source": [
    "%run Import_bibliotheques.ipynb"
   ]
  },
  {
   "cell_type": "markdown",
   "metadata": {},
   "source": [
    "L'équation de réaction est celle associée à la dissolution d'un acide $AH$ dans l'eau :\n",
    "\n",
    "$$AH + H_2O \\rightleftarrows A^- + H_3O^+$$\n",
    "\n",
    "Entrer la valeur du $pK_A$ du couple $AH/A^-$ :"
   ]
  },
  {
   "cell_type": "code",
   "execution_count": null,
   "metadata": {},
   "outputs": [],
   "source": [
    "pKA = "
   ]
  },
  {
   "cell_type": "markdown",
   "metadata": {},
   "source": [
    "Calcul des grandeurs :\n",
    "\n",
    "Remplacer debut, fin et nombreDePoints par des valeurs appropriées, et entrer les formules permettant de calculer les proportions des espèces chimiques base et acide en solution :"
   ]
  },
  {
   "cell_type": "code",
   "execution_count": null,
   "metadata": {},
   "outputs": [],
   "source": [
    "pH = linspace(debut, fin, nombreDePoints)\n",
    "base = \n",
    "acide = "
   ]
  },
  {
   "cell_type": "markdown",
   "metadata": {},
   "source": [
    "Tracé des proportions d'espèces présentes en solution :\n",
    "\n",
    "Il est demandé de tracer les courbes correspondant aux proportions de base et d'acide en fonction du pH.\n",
    "\n",
    "Pour cela, mettre les bonnes abscisses et ordonnées dans les instructions de tracé de courbes, les légendes et un titre adapté."
   ]
  },
  {
   "cell_type": "code",
   "execution_count": null,
   "metadata": {},
   "outputs": [],
   "source": [
    "subplot(1, 1, 1)    # lignes, colonnes, numéro du graphique\n",
    "\n",
    "plot(abscisse, ordonnee, '-', label = \"nom de la courbe\")    # abscisse, ordonnée, options : + o . , s points   - -- -. : lignes  b g r y m c k w couleurs ; label est la légende associée à la courbe\n",
    "plot(abscisse, ordonnee, '-', label = \"nom de la courbe\")    # abscisse, ordonnée, options : + o . , s points   - -- -. : lignes  b g r y m c k w couleurs ; label est la légende associée à la courbe\n",
    "\n",
    "grid()    # ajoute une grille\n",
    "legend()    # ajoute la légende au graphique\n",
    "title(\"Mettre un bon titre ici\")    # mettre le titre désiré entre les guillemets\n",
    "xlabel(\"Ici, un bon nom pour l'abscisse\")    # mettre le nom de l'axe des abscisses entre les guillemets\n",
    "ylabel(\"Et là, un bon nom pour l'ordonnée\");    # mettre le nom de l'axe des ordonnées entre les guillemets. Le point-virgule final évite d'afficher un texte récapitulatif."
   ]
  }
 ],
 "metadata": {
  "kernelspec": {
   "display_name": "Python 3 (ipykernel)",
   "language": "python",
   "name": "python3"
  },
  "language_info": {
   "codemirror_mode": {
    "name": "ipython",
    "version": 3
   },
   "file_extension": ".py",
   "mimetype": "text/x-python",
   "name": "python",
   "nbconvert_exporter": "python",
   "pygments_lexer": "ipython3",
   "version": "3.10.12"
  },
  "widgets": {
   "application/vnd.jupyter.widget-state+json": {
    "state": {},
    "version_major": 2,
    "version_minor": 0
   }
  }
 },
 "nbformat": 4,
 "nbformat_minor": 4
}
