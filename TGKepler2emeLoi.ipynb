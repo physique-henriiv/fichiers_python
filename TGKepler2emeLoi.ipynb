{
 "cells": [
  {
   "cell_type": "markdown",
   "metadata": {
    "editable": true,
    "slideshow": {
     "slide_type": ""
    },
    "tags": []
   },
   "source": [
    "On commence par importer les bibliothèques nécessaires :"
   ]
  },
  {
   "cell_type": "code",
   "execution_count": null,
   "metadata": {
    "editable": true,
    "slideshow": {
     "slide_type": ""
    },
    "tags": []
   },
   "outputs": [],
   "source": [
    "%run Import_bibliotheques.ipynb"
   ]
  },
  {
   "cell_type": "markdown",
   "metadata": {
    "editable": true,
    "slideshow": {
     "slide_type": ""
    },
    "tags": []
   },
   "source": [
    "Importation de tableaux enregistrés localement en fichiers csv, avec attribution **manuelle** des noms de variables :"
   ]
  },
  {
   "cell_type": "code",
   "execution_count": null,
   "metadata": {},
   "outputs": [],
   "source": [
    "tableau = genfromtxt('mercure.csv', delimiter=';', skip_header=1)    # skip_header permet de ne pas lire les n premières lignes du fichier (utile si il y a des en-têtes) ; delimiter est le signe séparant les valeurs dans les différentes colonnes : par exemple, on peut parfois mettre delimiter=None si les séparateurs sont des espaces\n",
    "x = tableau[:, 1] # On enregistre la première colonne sous le nom x\n",
    "y = tableau[:, 2] # On enregistre la deuxième colonne sous le nom y\n",
    "vecteurs = tableau[:, 1:3]"
   ]
  },
  {
   "cell_type": "markdown",
   "metadata": {},
   "source": [
    "Indiquer ici les jours de démarrage des calculs d'aires dans une liste ainsi que la durée de l'intervalle de temps choisi :\n",
    "Les aires sont calculées par la fonction cross(coordonnées du vecteur 1, coordonnées du vecteur 2), qui calcule le produit vectoriel entre ${\\tt vecteur 1}$ et ${\\tt vecteur 2}$ et renvoie l'aire du triangle formé par les deux vecteurs d'origine commune.\n",
    "On additionne ensuite ces aires sur toute la durée de l'arc défini."
   ]
  },
  {
   "cell_type": "code",
   "execution_count": null,
   "metadata": {},
   "outputs": [],
   "source": [
    "joursDepart = []\n",
    "duree =\n",
    "\n",
    "aires = 0.5 * np.cross(vecteurs[:-1],vecteurs[1:])    # renvoie un tableau contenant les aires de chaque triangle formé par 2 vecteurs successifs\n",
    "A = sum([aires[i:i+duree] for i in joursDepart], axis = 1)    # calcule les aires cumulées sur les périodes demandées, sous forme de liste"
   ]
  },
  {
   "cell_type": "markdown",
   "metadata": {},
   "source": [
    "Tracer de graphique(s) à partir des tableaux précédents :"
   ]
  },
  {
   "cell_type": "code",
   "execution_count": null,
   "metadata": {},
   "outputs": [],
   "source": [
    "subplot(1, 1, 1)    # lignes, colonnes, numéro du graphique\n",
    "\n",
    "plot(x, y, '-')    # abscisse, ordonnée, options : + o . , s points   - -- -. : lignes  b g r y m c k w couleurs ; label est la légende associée à la courbe\n",
    "for i in range(len(joursDepart)):    # pour chaque élément dans la liste joursDepart\n",
    "    fill(append(x[joursDepart[i]:joursDepart[i] + duree], 0),append(y[joursDepart[i]:joursDepart[i] + duree], 0), label = f\"Aire : {A[i]:.4}\") #    on remplit la zone correspondant à chaque point de la trajectoire et le point d'origine\n",
    "axis('equal')\n",
    "grid()    # ajoute une grille\n",
    "legend()    # ajoute la légende au graphique\n",
    "title(\"\")    # mettre le titre désiré entre les guillemets\n",
    "xlabel(\"\")    # mettre le nom de l'axe des abscisses entre les guillemets\n",
    "ylabel(\"\");    # mettre le nom de l'axe des ordonnées entre les guillemets. Le point-virgule final évite d'afficher un texte récapitulatif."
   ]
  }
 ],
 "metadata": {
  "kernelspec": {
   "display_name": "Python 3 (ipykernel)",
   "language": "python",
   "name": "python3"
  },
  "language_info": {
   "codemirror_mode": {
    "name": "ipython",
    "version": 3
   },
   "file_extension": ".py",
   "mimetype": "text/x-python",
   "name": "python",
   "nbconvert_exporter": "python",
   "pygments_lexer": "ipython3",
   "version": "3.10.12"
  },
  "widgets": {
   "application/vnd.jupyter.widget-state+json": {
    "state": {},
    "version_major": 2,
    "version_minor": 0
   }
  }
 },
 "nbformat": 4,
 "nbformat_minor": 4
}
