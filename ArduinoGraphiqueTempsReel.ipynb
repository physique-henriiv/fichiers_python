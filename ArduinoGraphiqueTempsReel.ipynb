{
 "cells": [
  {
   "cell_type": "markdown",
   "metadata": {
    "slideshow": {
     "slide_type": ""
    },
    "tags": []
   },
   "source": [
    "On commence par importer les bibliothèques nécessaires. Attention : NE PAS EFFACER !"
   ]
  },
  {
   "cell_type": "code",
   "execution_count": 5,
   "metadata": {
    "slideshow": {
     "slide_type": ""
    },
    "tags": []
   },
   "outputs": [],
   "source": [
    "%run Import_bibliotheques.ipynb\n",
    "%run Arduino.ipynb"
   ]
  },
  {
   "cell_type": "code",
   "execution_count": null,
   "metadata": {},
   "outputs": [],
   "source": [
    "# Initialisation des tableaux t et u\n",
    "t, u = [], []\n",
    " # Connexion à l'Arduino\n",
    "connexion_arduino()\n",
    "\n",
    "# Lancer l'acquisition\n",
    "if __name__ == '__main__':\n",
    "    duree = float(input(\"Entrer la durée d'acquisition en s (défaut : infini) : \")) or float('inf')\n",
    "    fig, ax = plt.subplots()\n",
    "    line, = ax.plot([], [], 'b-')\n",
    "    ax.grid(True)\n",
    "    ax.set_xlim(0, duree)\n",
    "    ax.set_ylim(0, 5)\n",
    "    ax.set_xlabel('Temps (s)')\n",
    "    ax.set_ylabel('Tension (V)')\n",
    "    display(fig)\n",
    "    #trace_temps_reel(duree)\n",
    "    # Bouton pour démarrer les mesures\n",
    "    start_button = widgets.Button(description=\"Démarrer\")\n",
    "    def on_button_click(b):\n",
    "        trace_temps_reel(duree)\n",
    "    start_button.on_click(on_button_click)\n",
    "\n",
    "    # Afficher le bouton\n",
    "    display(start_button)\n"
   ]
  }
 ],
 "metadata": {
  "kernelspec": {
   "display_name": "Python 3",
   "language": "python",
   "name": "python3"
  },
  "language_info": {
   "codemirror_mode": {
    "name": "ipython",
    "version": 3
   },
   "file_extension": ".py",
   "mimetype": "text/x-python",
   "name": "python",
   "nbconvert_exporter": "python",
   "pygments_lexer": "ipython3",
   "version": "3.10.12"
  },
  "widgets": {
   "application/vnd.jupyter.widget-state+json": {
    "state": {},
    "version_major": 2,
    "version_minor": 0
   }
  }
 },
 "nbformat": 4,
 "nbformat_minor": 4
}
