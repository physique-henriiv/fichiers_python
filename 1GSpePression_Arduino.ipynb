{
 "cells": [
  {
   "cell_type": "markdown",
   "metadata": {},
   "source": [
    "Relier la borne de tension de sortie Vout du capteur de pression à la borne de mesure EA0 de la carte Arduino.\n",
    "\n",
    "Le programme à envoyer à Arduino est acquisition_continue.ino"
   ]
  },
  {
   "cell_type": "markdown",
   "metadata": {
    "editable": true,
    "slideshow": {
     "slide_type": ""
    },
    "tags": [
     "remove_cell"
    ]
   },
   "source": [
    "On commence par importer les bibliothèques nécessaires. Attention : NE PAS EFFACER !"
   ]
  },
  {
   "cell_type": "code",
   "execution_count": null,
   "metadata": {
    "editable": true,
    "jupyter": {
     "source_hidden": true
    },
    "slideshow": {
     "slide_type": ""
    },
    "tags": [
     "remove_cell"
    ]
   },
   "outputs": [],
   "source": [
    "%run Import_bibliotheques.ipynb\n",
    "%run Arduino.ipynb\n",
    "connexion_arduino()"
   ]
  },
  {
   "cell_type": "code",
   "execution_count": null,
   "metadata": {
    "editable": true,
    "slideshow": {
     "slide_type": ""
    },
    "tags": [
     "remove_cell"
    ]
   },
   "outputs": [],
   "source": [
    "nom = \"variable\"    # Donner entre les guillemets un nom pertinent à la variable dont dépend la pression"
   ]
  },
  {
   "cell_type": "markdown",
   "metadata": {
    "editable": true,
    "slideshow": {
     "slide_type": ""
    },
    "tags": []
   },
   "source": [
    "Acquisition des valeurs.  \n",
    "Entrer une nouvelle valeur de la variable pour réaliser une nouvelle mesure. Pour arrêter, valider sans entrer de valeur."
   ]
  },
  {
   "cell_type": "code",
   "execution_count": null,
   "metadata": {
    "editable": true,
    "jupyter": {
     "source_hidden": true
    },
    "slideshow": {
     "slide_type": ""
    },
    "tags": [
     "remove_cell"
    ]
   },
   "outputs": [],
   "source": [
    "valeurs = nom+\",P\"\n",
    "# L'étalonnage du capteur est du type P = coef * Vout + décalage ; les valeurs suivantes sont celles données par le constructeur pour le capteur de pression MPX4250AP\n",
    "coef = 5e4\n",
    "decalage = 1e4\n",
    "while 1 :\n",
    "    try :\n",
    "        variable = float(input(\"Entrer la valeur du paramètre (entrer une ligne vide pour arrêter) : \"))\n",
    "        valeurs += f\"\\n{variable},\"\n",
    "        # Réinitialisation de l'Arduino et attente de la première ligne valide\n",
    "        reset_arduino()\n",
    "        tension = mesure_unique()\n",
    "        \n",
    "        pression = coef * tension + decalage\n",
    "        print(f\"pression mesurée : {pression:.2f} Pa\")\n",
    "        valeurs += f\"{pression}\"\n",
    "    except :\n",
    "        ser.close()\n",
    "        \n",
    "        fichier = open(\"pression.csv\", 'w')\n",
    "        fichier.write(valeurs)\n",
    "        fichier.close()\n",
    "        break"
   ]
  },
  {
   "cell_type": "markdown",
   "metadata": {},
   "source": [
    "Importation de tableaux enregistrés localement en fichiers csv :"
   ]
  },
  {
   "cell_type": "code",
   "execution_count": null,
   "metadata": {},
   "outputs": [],
   "source": [
    "tableurVersVariables('pression.csv')"
   ]
  },
  {
   "cell_type": "markdown",
   "metadata": {},
   "source": [
    "Tracé de graphique(s) à partir des tableaux précédents :"
   ]
  },
  {
   "cell_type": "code",
   "execution_count": null,
   "metadata": {
    "tags": []
   },
   "outputs": [],
   "source": [
    "abscisse = nom    # choix de la grandeur en abscisse, pour le graphique et pour le modèle\n",
    "ordonnee = \"P\"    # choix de la grandeur en ordonnée, pour le graphique et pour le modèle\n",
    "equation = \"a * x + b\"    # expression de l'équation correspondant au modèle recherché ; la variable peut être x ou le nom donné en abscisse\n",
    "debut = None    # indice du premier élément à prendre en compte pour le modèle (None : le premier de la liste)\n",
    "fin = None    # indice du dernier élément à prendre en compte pour le modèle (None : le dernier de la liste)\n",
    "debutCourbe = None    # valeur de l'abscisse où débute le tracé du modèle (None : la plus petite valeur de l'abscisse)\n",
    "finCourbe = None    # valeur de l'abscisse où se termine le tracé du modèle (None : la plus grande valeur de l'abscisse)\n",
    "contraintes = [['a', 1, True, -inf, inf]]    # ['nomDuParametre', valeurInitiale, variabilité, min, max]   à remplir pour chaque paramètre du modèle si la recherche automatique ne trouve pas de valeurs cohérentes\n",
    "\n",
    "subplot(1,1,1)    # création d'une fenêtre de graphique : lignes, colonnes, numéro\n",
    "xMod, yMod, expression, valeurs, abscisse, ordonnee, modele, parametres = Calcul_modele(abscisse, ordonnee, equation, debut, fin, debutCourbe, finCourbe, contraintes)    # Calcul des valeurs du modèle, ne pas modifier\n",
    "\n",
    "# Tracé des points expérimentaux :\n",
    "plot(abscisse, ordonnee, '+', label=\"\")    # abscisse, ordonnée, options : + o . , s points   - -- -. : lignes  b g r y m c k w couleurs ; label est la légende associée à la courbe\n",
    "\n",
    "# Tracé du modèle :\n",
    "plot(xMod, yMod, '-', label=f\"Modèle :    {expression} \\n {valeurs}\" )    # trace la courbe du modèle\n",
    "\n",
    "#axis('equal')    # à décommenter si on veut un repère orthonormé\n",
    "grid()    # ajoute une grille\n",
    "legend()    # ajoute la légende au graphique\n",
    "title(\"Mon titre\")    # mettre le titre désiré entre les guillemets\n",
    "xlabel(\"\")    # mettre le nom de l'axe des abscisses entre les guillemets\n",
    "ylabel(\"\");    # mettre le nom de l'axe des ordonnées entre les guillemets. Le point-virgule final évite d'afficher un texte récapitulatif."
   ]
  },
  {
   "cell_type": "markdown",
   "metadata": {
    "tags": [
     "remove_cell"
    ]
   },
   "source": [
    "Calcul de valeurs particulières :"
   ]
  },
  {
   "cell_type": "raw",
   "metadata": {
    "tags": [
     "remove_cell"
    ]
   },
   "source": [
    "# Calcul dans le sens direct :\n",
    "valeur_de_y = modele.eval(parametres, x = valeur_de_x)    # remplacer valeur_de_x par un nombre ou une liste de nombres\n",
    "print(valeur_de_y)"
   ]
  }
 ],
 "metadata": {
  "kernelspec": {
   "display_name": "Python 3 (ipykernel)",
   "language": "python",
   "name": "python3"
  },
  "language_info": {
   "codemirror_mode": {
    "name": "ipython",
    "version": 3
   },
   "file_extension": ".py",
   "mimetype": "text/x-python",
   "name": "python",
   "nbconvert_exporter": "python",
   "pygments_lexer": "ipython3",
   "version": "3.10.12"
  },
  "widgets": {
   "application/vnd.jupyter.widget-state+json": {
    "state": {},
    "version_major": 2,
    "version_minor": 0
   }
  }
 },
 "nbformat": 4,
 "nbformat_minor": 4
}
