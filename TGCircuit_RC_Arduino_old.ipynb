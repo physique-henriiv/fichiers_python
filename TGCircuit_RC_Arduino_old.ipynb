{
 "cells": [
  {
   "cell_type": "markdown",
   "metadata": {
    "editable": true,
    "jupyter": {
     "source_hidden": true
    },
    "slideshow": {
     "slide_type": ""
    },
    "tags": [
     "remove_cell"
    ]
   },
   "source": [
    "On commence par importer les bibliothèques nécessaires. Attention : NE PAS EFFACER !"
   ]
  },
  {
   "cell_type": "code",
   "execution_count": null,
   "metadata": {
    "editable": true,
    "slideshow": {
     "slide_type": ""
    },
    "tags": [
     "remove_cell"
    ]
   },
   "outputs": [],
   "source": [
    "%run Import_bibliotheques.ipynb\n",
    "# On initialise la carte Arduino avec le protocole telemetrix\n",
    "from telemetrix import telemetrix"
   ]
  },
  {
   "cell_type": "markdown",
   "metadata": {
    "editable": true,
    "slideshow": {
     "slide_type": ""
    },
    "tags": []
   },
   "source": [
    "Conditions expérimentales :"
   ]
  },
  {
   "cell_type": "code",
   "execution_count": null,
   "metadata": {
    "editable": true,
    "slideshow": {
     "slide_type": ""
    },
    "tags": []
   },
   "outputs": [],
   "source": [
    "charge = 1    # mettre 1 pour la charge du condensateur, et 0 pour sa décharge\n",
    "duree =  0.2    # Entrer la durée d'acquisition désirée en s\n",
    "Analog_pin = 0    # numéro de la voie de mesure analogique\n",
    "Digital_pin = 13    # muméro de la voie de commande digitale\n",
    "intervalle = 5    # durée entre 2 mesures en ms (minimum = 1)"
   ]
  },
  {
   "cell_type": "markdown",
   "metadata": {
    "editable": true,
    "slideshow": {
     "slide_type": ""
    },
    "tags": [
     "remove_cell"
    ]
   },
   "source": [
    "On se connecte à Arduino :"
   ]
  },
  {
   "cell_type": "code",
   "execution_count": null,
   "metadata": {
    "editable": true,
    "jupyter": {
     "source_hidden": true
    },
    "slideshow": {
     "slide_type": ""
    },
    "tags": [
     "remove_cell"
    ]
   },
   "outputs": [],
   "source": [
    "uc = []\n",
    "t = []\n",
    "mesure = 0   # 0 pour interdire les mesures, 1 pour les autoriser\n",
    "# Callback data indices\n",
    "CB_PIN_MODE = 0\n",
    "CB_PIN = 1\n",
    "CB_VALUE = 2\n",
    "CB_TIME = 3\n",
    "carte = telemetrix.Telemetrix(\"/dev/ttyACM0\")    # on définit la carte Arduino sous le nom de \"carte\"\n",
    "\n",
    "def MonCallback(data) :    # on définit ici ce qui sera exécuté à chaque appel de mesure\n",
    "    global mesure, t, uc, i, debut, duree\n",
    "    raw_value = data[CB_VALUE]\n",
    "    if mesure :\n",
    "        if i == 0 :\n",
    "            debut = data[CB_TIME]\n",
    "        instant = data[CB_TIME] - debut\n",
    "        if instant <= duree :\n",
    "            t.append(instant)\n",
    "            tension = raw_value * 5.0 / 1023\n",
    "            uc.append(tension)\n",
    "        i = 1\n",
    "\n",
    "carte.set_pin_mode_analog_input(Analog_pin, callback = MonCallback)    # définition de la voie d'acquisition\n",
    "carte.set_analog_scan_interval(intervalle)\n",
    "carte.set_pin_mode_digital_output(Digital_pin)    # définition de la voie d'acquisition\n",
    "carte.digital_write(Digital_pin, 1 - charge)    # on met l'alimentation sur 0 V ou 5V selon les conditions initiales\n",
    "sleep(duree)"
   ]
  },
  {
   "cell_type": "markdown",
   "metadata": {},
   "source": [
    "Interaction avec les voies définies précédemment :"
   ]
  },
  {
   "cell_type": "code",
   "execution_count": null,
   "metadata": {
    "editable": true,
    "jupyter": {
     "source_hidden": true
    },
    "slideshow": {
     "slide_type": ""
    },
    "tags": []
   },
   "outputs": [],
   "source": [
    "mesure = 1    # on va commencer les mesures\n",
    "i = 0    # initialisation du compteur pour que le temps commence à 0\n",
    "carte.digital_write(Digital_pin, charge)    # on met l'alimentation sur 0 V ou 5V selon les conditions initiales\n",
    "sleep(duree)    # en s, attente de la (dé)charge complète du condensateur\n",
    "carte.disable_analog_reporting(Analog_pin)    # on arrête les mesures\n",
    "carte.shutdown()   # fermeture propre de la communication avec Arduino\n",
    "\n",
    "# on transforme les listes en tableaux pour les traitements scientifiques :\n",
    "t = array(t)\n",
    "uc = array(uc)"
   ]
  },
  {
   "cell_type": "markdown",
   "metadata": {
    "editable": true,
    "slideshow": {
     "slide_type": ""
    },
    "tags": [
     "remove_cell"
    ]
   },
   "source": [
    "Calcul des caractéristiques de la courbe de régression. Attention : NE PAS SUPPRIMER, et ne le modifier que si les paramètres par défaut ne donnent pas de bon résultat :"
   ]
  },
  {
   "cell_type": "code",
   "execution_count": null,
   "metadata": {
    "editable": true,
    "jupyter": {
     "source_hidden": true
    },
    "slideshow": {
     "slide_type": ""
    },
    "tags": [
     "remove_cell"
    ]
   },
   "outputs": [],
   "source": [
    "def Modele(expression, x, y):\n",
    "    \n",
    "    modele = ExpressionModel(expression)    # si la variable indépendante n'est pas \"x\", ajouter comme argument independant_vars = [\"nom\"])\n",
    "\n",
    "    # Cette partie devine les paramètres et leur attribue une valeur initiale de 1 pour la recherche\n",
    "    parametres = modele.make_params()\n",
    "    for i in parametres :\n",
    "        modele.set_param_hint(i, value = 1)\n",
    "    parametres = modele.make_params()\n",
    "\n",
    "    modele.set_param_hint('tau', value = 1, vary = True, min = 0, max = inf)    # À compléter pour changer les valeurs initiales des paramètres. Le dernier argument est expr (string)\n",
    "\n",
    "    resultat = modele.fit(y, parametres, x = x)    # Entrer ici le nom de la variable en x et en y, pour le calcul final des paramètres\n",
    "\n",
    "    # On affiche les valeurs trouvées pour les paramètres :\n",
    "    valeurs = \"\"\n",
    "    for key in resultat.params:\n",
    "        valeurs += f\"{key} = {resultat.params[key].value:.3g} ; incertitude : {resultat.params[key].stderr:.2g}\\n\"\n",
    "    return(modele, resultat.params, valeurs, expression)\n",
    "\n",
    "## On commence par arranger les expressions avec \"x\" comme variable, car lmfit travaille avec x par défaut :\n",
    "abscisse = \"t\"\n",
    "ordonnee = \"uc\"\n",
    "if charge == 0 :\n",
    "    equation = \"E * exp(-1 * t / tau)\"\n",
    "else :\n",
    "    equation = \"E * (1 - exp(-1 * t / tau))\"\n",
    "abscisse1 = abscisse\n",
    "ordonnee1 = ordonnee\n",
    "equation1 = equation\n",
    "equation = re.sub(r\"\\b\"+abscisse+r\"\\b\",\"x\", equation)\n",
    "abscisse = globals()[abscisse]\n",
    "ordonnee = globals()[ordonnee]\n",
    "\n",
    "# On calcule maintenant les grandeurs liées au modèle :\n",
    "xMod = linspace(min(abscisse), max(abscisse), 30)    # Intervalle de valeurs pour le modèle : (début, fin, nombre de points)\n",
    "modele, parametres, valeurs, expression = Modele(equation, abscisse, ordonnee)    # Expression du modèle, et variables en abscisse et en ordonnée\n",
    "expression = f\"{ordonnee1} = {equation1}\"\n",
    "yMod = modele.eval(parametres, x = xMod)\n",
    "\n",
    "# Les paramètres sont définis de façon globale, et utilisables dans des calculs :\n",
    "for key in parametres:\n",
    "    globals()[key] = parametres[key].value"
   ]
  },
  {
   "cell_type": "markdown",
   "metadata": {},
   "source": [
    "Tracer de graphique(s) à partir des tableaux précédents :"
   ]
  },
  {
   "cell_type": "code",
   "execution_count": null,
   "metadata": {
    "editable": true,
    "slideshow": {
     "slide_type": ""
    },
    "tags": []
   },
   "outputs": [],
   "source": [
    "subplot(1, 1, 1)    # lignes, colonnes, numéro du graphique\n",
    "\n",
    "# Tracé des points expérimentaux :\n",
    "plot(abscisse, ordonnee, '+', label=\"\")    # abscisse, ordonnée, options : + o . , s points   - -- -. : lignes  b g r y m c k w couleurs ; label est la légende associée à la courbe\n",
    "\n",
    "# Tracé du modèle :\n",
    "plot(xMod, yMod, '-', label=f\"Modèle :    {expression} \\n {valeurs}\" )    # trace la courbe du modèle\n",
    "\n",
    "#axis('equal')    # à décommenter si on veut un repère orthonormé\n",
    "grid()    # ajoute une grille\n",
    "legend()    # ajoute la légende au graphique\n",
    "title(\"Variation de la tension aux bornes du condensateur\")    # mettre le titre désiré entre les guillemets\n",
    "xlabel(\"t (s)\")    # mettre le nom de l'axe des abscisses entre les guillemets\n",
    "ylabel(\"uc (V)\");    # mettre le nom de l'axe des ordonnées entre les guillemets. Le point-virgule final évite d'afficher un texte récapitulatif."
   ]
  },
  {
   "cell_type": "markdown",
   "metadata": {
    "editable": true,
    "slideshow": {
     "slide_type": ""
    },
    "tags": []
   },
   "source": [
    "Calcul de la valeur de la capacité du condensateur :"
   ]
  },
  {
   "cell_type": "code",
   "execution_count": null,
   "metadata": {
    "editable": true,
    "scrolled": true,
    "slideshow": {
     "slide_type": ""
    },
    "tags": []
   },
   "outputs": [],
   "source": [
    "R = 220    #Entrer la valeur de la résistance en Ohm\n",
    "c = tau / R\n",
    "print(f\"La valeur de la capacité du condensateur est {c:.3} F\")"
   ]
  }
 ],
 "metadata": {
  "kernelspec": {
   "display_name": "Python 3 (ipykernel)",
   "language": "python",
   "name": "python3"
  },
  "language_info": {
   "codemirror_mode": {
    "name": "ipython",
    "version": 3
   },
   "file_extension": ".py",
   "mimetype": "text/x-python",
   "name": "python",
   "nbconvert_exporter": "python",
   "pygments_lexer": "ipython3",
   "version": "3.10.12"
  },
  "widgets": {
   "application/vnd.jupyter.widget-state+json": {
    "state": {},
    "version_major": 2,
    "version_minor": 0
   }
  }
 },
 "nbformat": 4,
 "nbformat_minor": 4
}
