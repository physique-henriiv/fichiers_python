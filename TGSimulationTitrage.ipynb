{
 "cells": [
  {
   "cell_type": "markdown",
   "metadata": {
    "editable": true,
    "slideshow": {
     "slide_type": ""
    },
    "tags": []
   },
   "source": [
    "On commence par importer les bibliothèques nécessaires. Attention : NE PAS EFFACER !"
   ]
  },
  {
   "cell_type": "code",
   "execution_count": null,
   "metadata": {
    "editable": true,
    "slideshow": {
     "slide_type": ""
    },
    "tags": []
   },
   "outputs": [],
   "source": [
    "%run Import_bibliotheques.ipynb"
   ]
  },
  {
   "cell_type": "markdown",
   "metadata": {},
   "source": [
    "L'équation de réaction associée au tirage est (à adapter en fonction du cas traité) :\n",
    "\n",
    "$$aA + bB \\rightarrow cC + dD$$\n",
    "\n",
    "Entrer les formules chimiques des espèces en présence :"
   ]
  },
  {
   "cell_type": "code",
   "execution_count": null,
   "metadata": {},
   "outputs": [],
   "source": [
    "A = \"\"\n",
    "B = \"\"\n",
    "C = \"\"\n",
    "D = \"\"\n",
    "\n",
    "CatSpect = \"\"\n",
    "AnSpect = \"\""
   ]
  },
  {
   "cell_type": "markdown",
   "metadata": {},
   "source": [
    "Entrer les nombres stoechiométriques de l'équation :"
   ]
  },
  {
   "cell_type": "code",
   "execution_count": null,
   "metadata": {},
   "outputs": [],
   "source": [
    "a = \n",
    "b = \n",
    "c = \n",
    "d = "
   ]
  },
  {
   "cell_type": "markdown",
   "metadata": {},
   "source": [
    "Entrer les valeurs connues relatives aux solutions :"
   ]
  },
  {
   "cell_type": "code",
   "execution_count": null,
   "metadata": {},
   "outputs": [],
   "source": [
    "cA = \n",
    "VA = \n",
    "cB = "
   ]
  },
  {
   "cell_type": "raw",
   "metadata": {
    "jupyter": {
     "source_hidden": true
    }
   },
   "source": [
    "linspace(debut, fin, nombre de valeurs) définit une série de valeurs régulièrement réparties allant de début à fin et contenant un nombre de valeurs donné en troisième argument.\n",
    "maximum compare deux séries de valeurs (ou une série et une constante comme ici) et conserve pour chaque rang la valeur la plus grande."
   ]
  },
  {
   "cell_type": "markdown",
   "metadata": {},
   "source": [
    "Calcul des quantités de matière de réactifs et produits en fonction du volume VB versé.\n",
    "\n",
    "Entrer les formules issues du tableau d'avancement pour les calculs de nA, nB et nC"
   ]
  },
  {
   "cell_type": "code",
   "execution_count": null,
   "metadata": {},
   "outputs": [],
   "source": [
    "VB = linspace(0, 25e-3, 100)\n",
    "nA = maximum(, 0)\n",
    "nB = maximum(, 0)\n",
    "nC = "
   ]
  },
  {
   "cell_type": "markdown",
   "metadata": {},
   "source": [
    "Calculs des quantités d'ions spectateurs :\n",
    "\n",
    "Entrer les formules"
   ]
  },
  {
   "cell_type": "code",
   "execution_count": null,
   "metadata": {},
   "outputs": [],
   "source": [
    "nCatSpect = \n",
    "nAnSpect = "
   ]
  },
  {
   "cell_type": "markdown",
   "metadata": {},
   "source": [
    "Tracé des quantités de matière en fonction du volume de solution titrante versé :"
   ]
  },
  {
   "cell_type": "code",
   "execution_count": null,
   "metadata": {},
   "outputs": [],
   "source": [
    "subplot(1, 1, 1)    # lignes, colonnes, numéro du graphique\n",
    "\n",
    "plot(VB, nA, '-', label=f\"n{A}\")    # abscisse, ordonnée, options : + o . , s points   - -- -. : lignes  b g r y m c k w couleurs ; label est la légende associée à la courbe\n",
    "plot(VB, nB, '-', label=f\"n{B}\")\n",
    "plot(VB, nC, '-', label=f\"n{C}\")\n",
    "\n",
    "grid()    # ajoute une grille\n",
    "legend()    # ajoute la légende au graphique\n",
    "title(\"Évolution des quantités au cours du titrage\")    # mettre le titre désiré entre les guillemets\n",
    "xlabel(\"VB (L)\")    # mettre le nom de l'axe des abscisses entre les guillemets\n",
    "ylabel(\"n (mol)\");    # mettre le nom de l'axe des ordonnées entre les guillemets. Le point-virgule final évite d'afficher un texte récapitulatif."
   ]
  },
  {
   "cell_type": "markdown",
   "metadata": {},
   "source": [
    "Valeurs des conductivités molaires ioniques :"
   ]
  },
  {
   "cell_type": "code",
   "execution_count": null,
   "metadata": {},
   "outputs": [],
   "source": [
    "LA = \n",
    "LB = \n",
    "LC = \n",
    "LD =\n",
    "LCatSpect = \n",
    "LAnSpect = \n",
    "Vi =     # volume initial de la solution titrée, tenir compte de l'éventuel d'ajout d'eau distillée"
   ]
  },
  {
   "cell_type": "markdown",
   "metadata": {},
   "source": [
    "Calcul des valeurs de la conductivité de la solution :\n",
    "\n",
    "Entrer la formule en fonction des quantités et des volumes"
   ]
  },
  {
   "cell_type": "code",
   "execution_count": null,
   "metadata": {},
   "outputs": [],
   "source": [
    "sigma = "
   ]
  },
  {
   "cell_type": "markdown",
   "metadata": {},
   "source": [
    "Tracé de l'évolution de la conductivité au cours du titrage :"
   ]
  },
  {
   "cell_type": "code",
   "execution_count": null,
   "metadata": {},
   "outputs": [],
   "source": [
    "subplot(1, 1, 1)    # lignes, colonnes, numéro du graphique\n",
    "\n",
    "plot(VB, sigma, '-', label=f\"Conductivité\")    # abscisse, ordonnée, options : + o . , s points   - -- -. : lignes  b g r y m c k w couleurs ; label est la légende associée à la courbe\n",
    "\n",
    "grid()    # ajoute une grille\n",
    "#legend()    # ajoute la légende au graphique\n",
    "title(\"Évolution de la conductivité  au cours du titrage\")    # mettre le titre désiré entre les guillemets\n",
    "xlabel(\"VB (L)\")    # mettre le nom de l'axe des abscisses entre les guillemets\n",
    "ylabel(\"conductivité (S/m)\");    # mettre le nom de l'axe des ordonnées entre les guillemets. Le point-virgule final évite d'afficher un texte récapitulatif."
   ]
  }
 ],
 "metadata": {
  "kernelspec": {
   "display_name": "Python 3 (ipykernel)",
   "language": "python",
   "name": "python3"
  },
  "language_info": {
   "codemirror_mode": {
    "name": "ipython",
    "version": 3
   },
   "file_extension": ".py",
   "mimetype": "text/x-python",
   "name": "python",
   "nbconvert_exporter": "python",
   "pygments_lexer": "ipython3",
   "version": "3.10.12"
  },
  "widgets": {
   "application/vnd.jupyter.widget-state+json": {
    "state": {},
    "version_major": 2,
    "version_minor": 0
   }
  }
 },
 "nbformat": 4,
 "nbformat_minor": 4
}
