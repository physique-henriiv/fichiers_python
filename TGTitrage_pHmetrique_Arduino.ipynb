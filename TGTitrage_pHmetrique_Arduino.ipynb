{
 "cells": [
  {
   "cell_type": "markdown",
   "metadata": {},
   "source": [
    "Relier la borne de tension de sortie Vout du capteur de pH à la borne de mesure EA0 de la carte Arduino.\n",
    "\n",
    "Le programme à envoyer à Arduino est acquisition_continue.ino"
   ]
  },
  {
   "cell_type": "markdown",
   "metadata": {
    "editable": true,
    "hideCode": true,
    "hidePrompt": false,
    "slideshow": {
     "slide_type": ""
    },
    "tags": [
     "remove_cell"
    ]
   },
   "source": [
    "On commence par importer les bibliothèques nécessaires. Attention : NE PAS EFFACER !"
   ]
  },
  {
   "cell_type": "code",
   "execution_count": null,
   "metadata": {
    "editable": true,
    "jupyter": {
     "source_hidden": true
    },
    "slideshow": {
     "slide_type": ""
    },
    "tags": [
     "remove_cell"
    ]
   },
   "outputs": [],
   "source": [
    "%run Import_bibliotheques.ipynb\n",
    "%run Arduino.ipynb\n",
    "connexion_arduino()"
   ]
  },
  {
   "cell_type": "raw",
   "metadata": {},
   "source": [
    "On étalonne le pH-mètre :"
   ]
  },
  {
   "cell_type": "code",
   "execution_count": null,
   "metadata": {
    "jupyter": {
     "source_hidden": true
    }
   },
   "outputs": [],
   "source": [
    "input(\"Mettre la sonde dans la solution tampon de pH 7 et appuyer sur entrée\")\n",
    "# Réinitialisation de l'Arduino et attente de la première ligne valide\n",
    "reset_arduino()\n",
    "tension7 = mesure_unique()\n",
    "input(\"Mettre la sonde dans la solution tampon de pH 4 et appuyer sur entrée\")\n",
    "# Réinitialisation de l'Arduino et attente de la première ligne valide\n",
    "reset_arduino()\n",
    "tension4 = mesure_unique()\n",
    "a = 3. * (tension7 - tension4)\n",
    "b = 7. - a * tension7"
   ]
  },
  {
   "cell_type": "raw",
   "metadata": {},
   "source": [
    "On démarre les relevés de valeurs :"
   ]
  },
  {
   "cell_type": "code",
   "execution_count": null,
   "metadata": {
    "jupyter": {
     "source_hidden": true
    }
   },
   "outputs": [],
   "source": [
    "valeurs = \"V,pH\"\n",
    "while 1 :\n",
    "    try :\n",
    "        V = float(input(\"Entrer le volume versé en mL (entrer une ligne vide pour arrêter) : \"))\n",
    "        valeurs += f\"\\n{V},\"\n",
    "        # Réinitialisation de l'Arduino et attente de la première ligne valide\n",
    "        reset_arduino()\n",
    "        tension = mesure_unique()\n",
    "        \n",
    "        pHactuel = a * tension + b\n",
    "        print(f\"pH mesuré : {pHactuel:.2f}\")\n",
    "        valeurs += f\"{pHactuel}\"\n",
    "    except :\n",
    "        ser.close()\n",
    "        \n",
    "        fichier = open(\"titragepH.csv\", 'w')\n",
    "        fichier.write(valeurs)\n",
    "        fichier.close()\n",
    "        break"
   ]
  },
  {
   "cell_type": "markdown",
   "metadata": {},
   "source": [
    "Importation de tableaux enregistrés localement en fichiers csv :"
   ]
  },
  {
   "cell_type": "code",
   "execution_count": null,
   "metadata": {},
   "outputs": [],
   "source": [
    "tableurVersVariables('titragepH.csv')"
   ]
  },
  {
   "cell_type": "markdown",
   "metadata": {},
   "source": [
    "On lisse les valeurs de pH et on dérive numériquement le pH par rapport au volume versé :"
   ]
  },
  {
   "cell_type": "code",
   "execution_count": null,
   "metadata": {
    "jupyter": {
     "source_hidden": true
    }
   },
   "outputs": [],
   "source": [
    "tck = interpolate.splrep(V, pH, s=0.003) # la fonction renvoie un tuple contenant les informations du lissage\n",
    "# le paramètre 's' permet d'ajuster le lissage : s=0 la courbe passe obligatoirement par tous les points.\n",
    "# on peut ajuster le lissage de sorte que la dérivée ne soit pas trop bruitée\n",
    "\n",
    "vecV = linspace(0,max(V),1000) # On définit un vecteur de volumes régulièrement espacés pour le tracé et le calcul de la dérivée\n",
    "pHLisse = interpolate.splev(vecV,tck) # On calcule le lissage des points de mesures\n",
    "\n",
    "dervpH = gradient(pHLisse) / gradient(vecV) # On calcule la dérivée du pH par rapport au volume\n",
    "dervpH = dervpH/max(dervpH)*10 # on normalise la valeur de la dérivée pour l'ajuste à l'affichage"
   ]
  },
  {
   "cell_type": "markdown",
   "metadata": {
    "hideCode": false,
    "hidePrompt": false
   },
   "source": [
    "Tracer de graphique(s) à partir des tableaux précédents :"
   ]
  },
  {
   "cell_type": "code",
   "execution_count": null,
   "metadata": {
    "hideCode": false,
    "hidePrompt": false,
    "jupyter": {
     "source_hidden": true
    }
   },
   "outputs": [],
   "source": [
    "subplot(1, 1, 1)    # lignes, colonnes, numéro du graphique\n",
    "\n",
    "plot(V, pH, '+', label=\"pH mesurés\")    # abscisse, ordonnée, options : + o . , s points   - -- -. : lignes  b g r y m c k w couleurs ; label est la légende associée à la courbe\n",
    "plot(vecV, pHLisse, '-', label=\"courbe lissée de pH\")\n",
    "plot(vecV, dervpH, '-', label=\"dpH/dV\") \n",
    "\n",
    "grid()    # ajoute une grille\n",
    "legend()    # ajoute la légende au graphique\n",
    "title(\"Courbe de titrage\")    # mettre le titre désiré entre les guillemets\n",
    "xlabel(\"Volume versé (mL)\")    # mettre le nom de l'axe des abscisses entre les guillemets\n",
    "ylabel(\"pH ; dpH/dV\");    # mettre le nom de l'axe des ordonnées entre les guillemets. Le point-virgule final évite d'afficher un texte récapitulatif."
   ]
  }
 ],
 "metadata": {
  "celltoolbar": "Hide code",
  "hide_code_all_hidden": false,
  "kernelspec": {
   "display_name": "Python 3 (ipykernel)",
   "language": "python",
   "name": "python3"
  },
  "language_info": {
   "codemirror_mode": {
    "name": "ipython",
    "version": 3
   },
   "file_extension": ".py",
   "mimetype": "text/x-python",
   "name": "python",
   "nbconvert_exporter": "python",
   "pygments_lexer": "ipython3",
   "version": "3.10.12"
  },
  "widgets": {
   "application/vnd.jupyter.widget-state+json": {
    "state": {},
    "version_major": 2,
    "version_minor": 0
   }
  }
 },
 "nbformat": 4,
 "nbformat_minor": 4
}
