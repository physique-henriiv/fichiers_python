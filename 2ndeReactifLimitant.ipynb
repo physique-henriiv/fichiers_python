{
 "cells": [
  {
   "cell_type": "markdown",
   "metadata": {
    "editable": true,
    "slideshow": {
     "slide_type": ""
    },
    "tags": []
   },
   "source": [
    "On commence par importer les bibliothèques nécessaires. Attention : NE PAS EFFACER !"
   ]
  },
  {
   "cell_type": "code",
   "execution_count": null,
   "metadata": {
    "editable": true,
    "slideshow": {
     "slide_type": ""
    },
    "tags": [
     "remove_cell"
    ]
   },
   "outputs": [],
   "source": [
    "%run Import_bibliotheques.ipynb"
   ]
  },
  {
   "cell_type": "markdown",
   "metadata": {},
   "source": [
    "L'équation de réaction chimique traitée est du type (à adapter en fonction du cas traité) :\n",
    "\n",
    "$$aA + bB \\rightarrow cC + dD$$\n",
    "\n",
    "Entrer les formules chimiques des espèces en présence :"
   ]
  },
  {
   "cell_type": "code",
   "execution_count": null,
   "metadata": {},
   "outputs": [],
   "source": [
    "A = \"\"\n",
    "B = \"\"\n",
    "C = \"\"\n",
    "D = \"\""
   ]
  },
  {
   "cell_type": "markdown",
   "metadata": {},
   "source": [
    "Entrer les nombres stoechiométriques de l'équation :"
   ]
  },
  {
   "cell_type": "code",
   "execution_count": null,
   "metadata": {},
   "outputs": [],
   "source": [
    "a = \n",
    "b = \n",
    "c = \n",
    "d = "
   ]
  },
  {
   "cell_type": "markdown",
   "metadata": {},
   "source": [
    "Entrer les quantités initiales de réactifs et de produits (en mol) :"
   ]
  },
  {
   "cell_type": "code",
   "execution_count": null,
   "metadata": {},
   "outputs": [],
   "source": [
    "nA = \n",
    "nB = \n",
    "nC = \n",
    "nD = "
   ]
  },
  {
   "cell_type": "markdown",
   "metadata": {},
   "source": [
    "Calcul de l'évolution de l'avancement et des quantités de matière :"
   ]
  },
  {
   "cell_type": "code",
   "execution_count": null,
   "metadata": {},
   "outputs": [],
   "source": [
    "# Initialisation des variables :\n",
    "Dx = nA/100    # pas de variation de l'avancement x à chaque itération\n",
    "x = 0    # avancement initial\n",
    "listex = [x]\n",
    "listenA = [nA]\n",
    "listenB = [nB]\n",
    "listenC = [nC]\n",
    "listenD = [nD]\n",
    "conclusion = \"\"\n",
    "\n",
    "# Boucle permettant de faire varier l'avancement par petits pas et de calculer les quantités à chaque fois :\n",
    "while nA > 0 and nB > 0:    # la boucle doit s'arrêter quand la quantité d'un réactif devient négative ou nulle\n",
    "    x += Dx\n",
    "    nA -= a * Dx\n",
    "    if nA <= 0:\n",
    "        nA = 0.\n",
    "        conclusion += f\"{A} est un réactif limitant \\n\"\n",
    "    nB -= b * Dx\n",
    "    if nB <= 0:\n",
    "        nB = 0.\n",
    "        conclusion += f\"{B} est un réactif limitant \\n\"\n",
    "    nC += c * Dx\n",
    "    nD += d * Dx\n",
    "    listex.append(x)\n",
    "    listenA.append(nA)\n",
    "    listenB.append(nB)\n",
    "    listenC.append(nC)\n",
    "    listenD.append(nD)"
   ]
  },
  {
   "cell_type": "markdown",
   "metadata": {},
   "source": [
    "Valeurs finales :"
   ]
  },
  {
   "cell_type": "code",
   "execution_count": null,
   "metadata": {},
   "outputs": [],
   "source": [
    "resultat = f\"\"\"\n",
    "xf = {x:.1} mol\n",
    "n{A},f = {nA:.3} mol\n",
    "n{B},f = {nB:.3} mol\n",
    "n{C},f = {nC:.3} mol\n",
    "n{D},f = {nD:.3} mol\n",
    "{conclusion}\n",
    "\"\"\"\n",
    "print(resultat)"
   ]
  },
  {
   "cell_type": "code",
   "execution_count": null,
   "metadata": {},
   "outputs": [],
   "source": [
    "subplot(1, 1, 1)    # lignes, colonnes, numéro du graphique\n",
    "\n",
    "plot(listex, listenA, '-', label=f\"n{A}\")    # abscisse, ordonnée, options : + o . , s points   - -- -. : lignes  b g r y m c k w couleurs ; label est la légende associée à la courbe\n",
    "plot(listex, listenB, '-', label=f\"n{B}\")\n",
    "plot(listex, listenC, '-', label=f\"n{C}\")\n",
    "plot(listex, listenD, '-', label=f\"n{D}\")\n",
    "\n",
    "grid()    # ajoute une grille\n",
    "legend()    # ajoute la légende au graphique\n",
    "title(\"Avancement de la réaction chimique\")    # mettre le titre désiré entre les guillemets\n",
    "xlabel(\"x (mol)\")    # mettre le nom de l'axe des abscisses entre les guillemets\n",
    "ylabel(\"n (mol)\");    # mettre le nom de l'axe des ordonnées entre les guillemets. Le point-virgule final évite d'afficher un texte récapitulatif."
   ]
  }
 ],
 "metadata": {
  "kernelspec": {
   "display_name": "Python 3 (ipykernel)",
   "language": "python",
   "name": "python3"
  },
  "language_info": {
   "codemirror_mode": {
    "name": "ipython",
    "version": 3
   },
   "file_extension": ".py",
   "mimetype": "text/x-python",
   "name": "python",
   "nbconvert_exporter": "python",
   "pygments_lexer": "ipython3",
   "version": "3.10.12"
  },
  "widgets": {
   "application/vnd.jupyter.widget-state+json": {
    "state": {},
    "version_major": 2,
    "version_minor": 0
   }
  }
 },
 "nbformat": 4,
 "nbformat_minor": 4
}
