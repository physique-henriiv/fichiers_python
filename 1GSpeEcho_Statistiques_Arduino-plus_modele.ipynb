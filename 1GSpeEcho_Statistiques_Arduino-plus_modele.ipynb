{
 "cells": [
  {
   "cell_type": "markdown",
   "metadata": {
    "editable": true,
    "slideshow": {
     "slide_type": ""
    },
    "tags": [
     "remove_cell"
    ]
   },
   "source": [
    "Pour exécuter ce programme, il est nécessaire de connecter une carte Arduino reliée au capteur adéquat, et contenant le programme hcsr04.ino  \n",
    "Pour les branchements :  \n",
    " VCC sur Arduino 5v   \n",
    " GND sur Arduino GND  \n",
    " Echo sur Arduino broche 7  \n",
    " Trig sur Arduino broche 8"
   ]
  },
  {
   "cell_type": "markdown",
   "metadata": {
    "editable": true,
    "slideshow": {
     "slide_type": ""
    },
    "tags": [
     "remove_cell"
    ]
   },
   "source": [
    "On commence par importer les bibliothèques nécessaires. Attention : NE PAS EFFACER !"
   ]
  },
  {
   "cell_type": "code",
   "execution_count": null,
   "metadata": {
    "editable": true,
    "slideshow": {
     "slide_type": ""
    },
    "tags": [
     "remove_cell"
    ]
   },
   "outputs": [],
   "source": [
    "%run Import_bibliotheques.ipynb\n",
    "%run arduino.ipynb\n",
    "\n",
    "valeurs_moyennes = []\n",
    "incertitudes_types = []\n",
    "variable = []"
   ]
  },
  {
   "cell_type": "markdown",
   "metadata": {
    "editable": true,
    "slideshow": {
     "slide_type": ""
    },
    "tags": []
   },
   "source": [
    "Acquisition des valeurs.  \n",
    "Entrer une nouvelle valeur de la variable pour réaliser une nouvelle mesure. Pour arrêter, valider sans entrer de valeur."
   ]
  },
  {
   "cell_type": "code",
   "execution_count": null,
   "metadata": {
    "editable": true,
    "jupyter": {
     "source_hidden": true
    },
    "slideshow": {
     "slide_type": ""
    },
    "tags": [
     "remove_input"
    ]
   },
   "outputs": [],
   "source": [
    "while True :\n",
    "    entree = input(\"Entrer la valeur de la distance en cm :\")\n",
    "    try :\n",
    "        variable.append(float(entree))\n",
    "        ser.flushInput()  # Vider le tampon de réception\n",
    "        \n",
    "        # Envoyer la commande de reset\n",
    "        ser.setDTR(False)  # DTR (Data Terminal Ready) à l'état bas pendant un court instant\n",
    "        time.sleep(0.1)\n",
    "        ser.setDTR(True)  # DTR à l'état haut pour terminer le reset\n",
    "        time.sleep(2)    # on laisse le temps à Arduino d'être prêt\n",
    "        # Liste pour stocker les données\n",
    "        liste_donnees = []\n",
    "        delai = 1    # délai maximum d'attente de valeur sur le port série\n",
    "        lecture = time.time()\n",
    "        \n",
    "        while True :\n",
    "                # Lire une ligne de données depuis le port série\n",
    "            if ser.in_waiting > 0:\n",
    "                ligne = ser.readline().decode().strip()\n",
    "                lecture = time.time()\n",
    "                # Convertir la ligne en nombre (assumant que les données sont des nombres)\n",
    "                valeur = float(ligne)\n",
    "                \n",
    "                # Ajouter les données à la liste\n",
    "                liste_donnees.append(valeur)\n",
    "            elif time.time() > lecture + delai :\n",
    "                donnees = array(liste_donnees) / 2    # Le temps de trajet se fait sur un aller-retour.\n",
    "                # Calculs statistiques (moyenne, écart-type et incertitude-type) sur une série de mesures x :\n",
    "                moy = mean(donnees)\n",
    "                ecartType = std(donnees, ddof=1)  # ddof=1 permet de calculer l'écart-type expérimental Sn-1\n",
    "                incertitudeType = ecartType / sqrt(len(donnees))\n",
    "                valeurs_moyennes.append(moy)\n",
    "                incertitudes_types.append(incertitudeType)\n",
    "                break\n",
    "    except :\n",
    "        variable = array(variable)    # on transforme la liste de valeurs en tableau exploitable\n",
    "        break    # on sort de la boucle de mesures"
   ]
  },
  {
   "cell_type": "code",
   "execution_count": null,
   "metadata": {
    "editable": true,
    "jupyter": {
     "source_hidden": true
    },
    "slideshow": {
     "slide_type": ""
    },
    "tags": []
   },
   "outputs": [],
   "source": [
    "print(f\"Dernières valeurs de temps mesurées en µs : {donnees}\")"
   ]
  },
  {
   "cell_type": "markdown",
   "metadata": {
    "editable": true,
    "slideshow": {
     "slide_type": ""
    },
    "tags": []
   },
   "source": [
    "Affichage des valeurs statistiques :"
   ]
  },
  {
   "cell_type": "code",
   "execution_count": null,
   "metadata": {
    "editable": true,
    "jupyter": {
     "source_hidden": true
    },
    "slideshow": {
     "slide_type": ""
    },
    "tags": [
     "remove_input"
    ]
   },
   "outputs": [],
   "source": [
    "resultat = f\"moyenne du temps de trajet : {moy:.5} µs ; incertitude-type : {incertitudeType:.2} µs\"    # crée une ligne de texte résumant les résultats\n",
    "print(resultat)    # affiche le résultat"
   ]
  },
  {
   "cell_type": "markdown",
   "metadata": {
    "editable": true,
    "slideshow": {
     "slide_type": ""
    },
    "tags": []
   },
   "source": [
    "On trace l'histogramme pour la dernière série de valeurs de temps mesurée :"
   ]
  },
  {
   "cell_type": "code",
   "execution_count": null,
   "metadata": {
    "editable": true,
    "jupyter": {
     "source_hidden": true
    },
    "slideshow": {
     "slide_type": ""
    },
    "tags": []
   },
   "outputs": [],
   "source": [
    "subplot(1, 1, 1)    # lignes, colonnes, numéro du graphique\n",
    "\n",
    "hist(donnees, bins=50, label=resultat)    # trace un histogramme à partir d'une série de mesures x ; options possibles : range=(,) et bins=nombre ou liste.\n",
    "\n",
    "grid()    # ajoute une grille\n",
    "legend()    # ajoute la légende au graphique\n",
    "title(\"\")    # mettre le titre désiré entre les guillemets\n",
    "xlabel(\"x\")    # mettre le nom de l'axe des abscisses entre les guillemets\n",
    "ylabel(\"Nombre de tirages\");    # mettre le nom de l'axe des ordonnées entre les guillemets. Le point-virgule final évite d'afficher un texte récapitulatif."
   ]
  },
  {
   "cell_type": "markdown",
   "metadata": {
    "editable": true,
    "slideshow": {
     "slide_type": ""
    },
    "tags": []
   },
   "source": [
    "On définit les valeurs mesurées dans des tableaux, ainsi que leurs incertitudes types :"
   ]
  },
  {
   "cell_type": "code",
   "execution_count": null,
   "metadata": {
    "editable": true,
    "jupyter": {
     "source_hidden": true
    },
    "slideshow": {
     "slide_type": ""
    },
    "tags": []
   },
   "outputs": [],
   "source": [
    "d = variable * 1e-2    # valeurs des distances en m\n",
    "ud = 3e-3\n",
    "t = array(valeurs_moyennes) * 1E-6    # valeurs des temps de trajet en s\n",
    "ut = array(incertitudes_types) * 1E-6"
   ]
  },
  {
   "cell_type": "markdown",
   "metadata": {
    "editable": true,
    "slideshow": {
     "slide_type": ""
    },
    "tags": []
   },
   "source": [
    "Visualisation du graphique pour s'assurer de la cohérence des mesures :"
   ]
  },
  {
   "cell_type": "code",
   "execution_count": null,
   "metadata": {
    "editable": true,
    "jupyter": {
     "source_hidden": true
    },
    "slideshow": {
     "slide_type": ""
    },
    "tags": []
   },
   "outputs": [],
   "source": [
    "subplot(1, 1, 1)    # lignes, colonnes, numéro du graphique\n",
    "\n",
    "plot(t, d, '+')    # abscisse, ordonnée, options : + o . , s points   - -- -. : lignes  b g r y m c k w couleurs\n",
    "\n",
    "grid()    # ajoute une grille\n",
    "title(r\"droite d'étalonnage\")    # mettre le titre désiré entre les guillemets\n",
    "xlabel(\"\")    # mettre le nom de l'axe des abscisses entre les guillemets\n",
    "ylabel(\"\");    # mettre le nom de l'axe des ordonnées entre les guillemets. Le point-virgule final évite d'afficher un texte récapitulatif."
   ]
  },
  {
   "cell_type": "markdown",
   "metadata": {
    "editable": true,
    "slideshow": {
     "slide_type": ""
    },
    "tags": []
   },
   "source": [
    "Tirages aléatoires de valeurs selon la méthode Monte Carlo et calcul pour chaque tirage du coefficient directeur et de l'ordonnée à l'origine pour un modèle de type $y=ax+b$ :"
   ]
  },
  {
   "cell_type": "code",
   "execution_count": null,
   "metadata": {
    "editable": true,
    "jupyter": {
     "source_hidden": true
    },
    "slideshow": {
     "slide_type": ""
    },
    "tags": []
   },
   "outputs": [],
   "source": [
    "a = []    # liste vide pour les coefficients direxteurs\n",
    "b = []    # liste vide pour les ordonnées à l'origine\n",
    "\n",
    "tirages = 100000    # nombre de simulations\n",
    "\n",
    "for _ in range(tirages):\n",
    "    talea = normal(t,ut)    # tirage aléatoire selon une loi normale\n",
    "    dalea = normal(d,ud)\n",
    "    \n",
    "    # Insérer ici si nécessaire les formules permettant les calculs des grandeurs en abscisse et en ordonnée :\n",
    "    \n",
    "    \n",
    "    p = polyfit(talea ,dalea ,1)    # calcul des coefficients du modèle\n",
    "    a.append(p[0])\n",
    "    b.append(p[1])"
   ]
  },
  {
   "cell_type": "markdown",
   "metadata": {
    "editable": true,
    "slideshow": {
     "slide_type": ""
    },
    "tags": []
   },
   "source": [
    "Calcul et affichage des valeurs moyennes et incertitudes-types pour le coefficient directeur et l'ordonnée à l'origine :"
   ]
  },
  {
   "cell_type": "code",
   "execution_count": null,
   "metadata": {
    "editable": true,
    "jupyter": {
     "source_hidden": true
    },
    "slideshow": {
     "slide_type": ""
    },
    "tags": []
   },
   "outputs": [],
   "source": [
    "amoy = mean(a)\n",
    "bmoy = mean(b)\n",
    "ua = std(a, ddof=1)\n",
    "ub = std(b, ddof=1)\n",
    "\n",
    "resultat = f\"coefficient directeur : {amoy:.5} incertitude : {ua:.2} ; ordonnée à l'origine : {bmoy:.5} incertitude : {ub:.2}\"\n",
    "print(resultat)"
   ]
  },
  {
   "cell_type": "markdown",
   "metadata": {},
   "source": [
    "Mesure de distance :  \n",
    "Il faut uniquement exécuter ce bloc pour chaque nouvelle distance à mesurer"
   ]
  },
  {
   "cell_type": "code",
   "execution_count": null,
   "metadata": {
    "editable": true,
    "jupyter": {
     "source_hidden": true
    },
    "slideshow": {
     "slide_type": ""
    },
    "tags": [
     "remove_cell"
    ]
   },
   "outputs": [],
   "source": [
    "try :\n",
    "    ser.flushInput()  # Vider le tampon de réception\n",
    "        \n",
    "    # Envoyer la commande de reset\n",
    "    ser.setDTR(False)  # DTR (Data Terminal Ready) à l'état bas pendant un court instant\n",
    "    time.sleep(0.1)\n",
    "    ser.setDTR(True)  # DTR à l'état haut pour terminer le reset\n",
    "    time.sleep(2)    # on laisse le temps à Arduino d'être prêt\n",
    "    # Liste pour stocker les données\n",
    "    liste_temps = []\n",
    "    lecture = time.time()\n",
    "        \n",
    "    while True :\n",
    "            # Lire une ligne de données depuis le port série\n",
    "        if ser.in_waiting > 0:\n",
    "            ligne = ser.readline().decode().strip()\n",
    "            lecture = time.time()\n",
    "            # Convertir la ligne en nombre (assumant que les données sont des nombres)\n",
    "            valeur = float(ligne)\n",
    "                \n",
    "            # Ajouter les données à la liste\n",
    "            liste_temps.append(valeur)\n",
    "        elif time.time() > lecture + delai :\n",
    "            temps = array(liste_temps) / 2    # Le temps de trajet se fait sur un aller-retour.\n",
    "            # Calculs statistiques (moyenne, écart-type et incertitude-type) sur une série de mesures x :\n",
    "            tmoy = mean(temps)\n",
    "            ecartType = std(temps, ddof=1)  # ddof=1 permet de calculer l'écart-type expérimental Sn-1\n",
    "            ut = ecartType / sqrt(len(temps))\n",
    "            break\n",
    "except :\n",
    "    pass\n",
    "\n",
    "print(f\"Durée d'un aller simple : {tmoy} µs\")\n",
    "tmesalea = normal(tmoy, ut, tirages) * 1e-6\n",
    "dmesalea = tmesalea * array(a) + array(b)\n",
    "dmesmoy = mean(dmesalea)\n",
    "udmes = std(dmesalea, ddof=1)\n",
    "\n",
    "resultat = f\"distance : {dmesmoy:.5} m ; incertitude-type : {udmes:.2} m\"\n",
    "print(resultat)"
   ]
  }
 ],
 "metadata": {
  "kernelspec": {
   "display_name": "Python 3 (ipykernel)",
   "language": "python",
   "name": "python3"
  },
  "language_info": {
   "codemirror_mode": {
    "name": "ipython",
    "version": 3
   },
   "file_extension": ".py",
   "mimetype": "text/x-python",
   "name": "python",
   "nbconvert_exporter": "python",
   "pygments_lexer": "ipython3",
   "version": "3.10.12"
  },
  "widgets": {
   "application/vnd.jupyter.widget-state+json": {
    "state": {},
    "version_major": 2,
    "version_minor": 0
   }
  }
 },
 "nbformat": 4,
 "nbformat_minor": 4
}
