{
 "cells": [
  {
   "cell_type": "markdown",
   "metadata": {
    "editable": true,
    "slideshow": {
     "slide_type": ""
    },
    "tags": []
   },
   "source": [
    "On commence par importer les bibliothèques nécessaires. Attention : NE PAS EFFACER !"
   ]
  },
  {
   "cell_type": "code",
   "execution_count": null,
   "metadata": {
    "editable": true,
    "slideshow": {
     "slide_type": ""
    },
    "tags": []
   },
   "outputs": [],
   "source": [
    "%run Import_bibliotheques.ipynb\n",
    "from numpy.random import normal    # charge la fonction de génération de distribution selon une loi normale"
   ]
  },
  {
   "cell_type": "markdown",
   "metadata": {},
   "source": [
    "On va étudier les incertitudes composées sur une formule du type : $c_2=\\frac{c_1\\cdot V_1}{V_2}$\n",
    "\n",
    "Entrer les valeurs connues dans des unités cohérentes :"
   ]
  },
  {
   "cell_type": "code",
   "execution_count": null,
   "metadata": {},
   "outputs": [],
   "source": [
    "c1 =    # valeur connue ou mesurée\n",
    "uc1 =     # incertitude-type sur la valeur précédente\n",
    "V1 = \n",
    "uV1 = \n",
    "V2 = \n",
    "uV2 = "
   ]
  },
  {
   "cell_type": "markdown",
   "metadata": {},
   "source": [
    "Génération aléatoire de valeurs expérimentales :"
   ]
  },
  {
   "cell_type": "code",
   "execution_count": null,
   "metadata": {},
   "outputs": [],
   "source": [
    "c1alea = normal(c1, uc1, 100000)\n",
    "V1alea = normal(V1, uV1, 100000)\n",
    "V2alea = normal(V2, uV2, 100000)"
   ]
  },
  {
   "cell_type": "markdown",
   "metadata": {},
   "source": [
    "Calcul des valeurs possibles pour c2 :"
   ]
  },
  {
   "cell_type": "code",
   "execution_count": null,
   "metadata": {},
   "outputs": [],
   "source": [
    "c2alea = c1alea * V1alea / V2alea"
   ]
  },
  {
   "cell_type": "markdown",
   "metadata": {},
   "source": [
    "Calculs statistiques (moyenne et incertitude-type) sur une série de mesures x ;\n",
    "dans ce cas (incertitude de type B), l'incertitude-type est égale à l'écart-type expérimental."
   ]
  },
  {
   "cell_type": "code",
   "execution_count": null,
   "metadata": {},
   "outputs": [],
   "source": [
    "moy = mean(c2alea)\n",
    "incertitudeType = std(c2alea, ddof=1)  # ddof=1 permet de calculer l'écart-type expérimental Sn-1"
   ]
  },
  {
   "cell_type": "markdown",
   "metadata": {},
   "source": [
    "Affichage des valeurs statistiques :"
   ]
  },
  {
   "cell_type": "code",
   "execution_count": null,
   "metadata": {},
   "outputs": [],
   "source": [
    "resultat = f\"moyenne : {moy:.5} ; incertitude-type : {incertitudeType:.5}\"    # crée une ligne de texte résumant les résultats\n",
    "print(resultat)    # affiche le résultat"
   ]
  },
  {
   "cell_type": "markdown",
   "metadata": {},
   "source": [
    "On trace l'histogramme :"
   ]
  },
  {
   "cell_type": "code",
   "execution_count": null,
   "metadata": {},
   "outputs": [],
   "source": [
    "subplot(1, 1, 1)    # lignes, colonnes, numéro du graphique\n",
    "\n",
    "hist(c2alea, bins=50, label=resultat)    # trace un histogramme à partir d'une série de mesures x ; options possibles : range=(,) et bins=nombre ou liste.\n",
    "\n",
    "grid()    # ajoute une grille\n",
    "legend()    # ajoute la légende au graphique\n",
    "title(\"Distribution Monte Carlo\")    # mettre le titre désiré entre les guillemets\n",
    "xlabel(\"c2exp\")    # mettre le nom de l'axe des abscisses entre les guillemets\n",
    "ylabel(\"Nombre de tirages\");    # mettre le nom de l'axe des ordonnées entre les guillemets. Le point-virgule final évite d'afficher un texte récapitulatif.\n"
   ]
  },
  {
   "cell_type": "markdown",
   "metadata": {},
   "source": [
    "Comparaison avec les formules d'incertitudes composées :"
   ]
  },
  {
   "cell_type": "code",
   "execution_count": null,
   "metadata": {},
   "outputs": [],
   "source": [
    "c2 = c1 * V1 / V2\n",
    "uc2 = c2 * sqrt((uc1 / c1)**2 + (uV1 / V1)**2 + (uV2 / V2)**2)\n",
    "print(f\"valeur : {c2:.5} ; incertitude type : {uc2:.5}\")"
   ]
  }
 ],
 "metadata": {
  "kernelspec": {
   "display_name": "Python 3 (ipykernel)",
   "language": "python",
   "name": "python3"
  },
  "language_info": {
   "codemirror_mode": {
    "name": "ipython",
    "version": 3
   },
   "file_extension": ".py",
   "mimetype": "text/x-python",
   "name": "python",
   "nbconvert_exporter": "python",
   "pygments_lexer": "ipython3",
   "version": "3.10.12"
  }
 },
 "nbformat": 4,
 "nbformat_minor": 4
}
