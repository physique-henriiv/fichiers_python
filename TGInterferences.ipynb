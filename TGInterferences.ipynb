{
 "cells": [
  {
   "cell_type": "markdown",
   "metadata": {
    "editable": true,
    "jupyter": {
     "source_hidden": true
    },
    "slideshow": {
     "slide_type": ""
    },
    "tags": []
   },
   "source": [
    "On commence par importer les bibliothèques nécessaires. Attention : NE PAS EFFACER !"
   ]
  },
  {
   "cell_type": "code",
   "execution_count": null,
   "metadata": {
    "editable": true,
    "slideshow": {
     "slide_type": ""
    },
    "tags": []
   },
   "outputs": [],
   "source": [
    "%run Import_bibliotheques.ipynb\n",
    "from matplotlib.animation import FuncAnimation"
   ]
  },
  {
   "cell_type": "markdown",
   "metadata": {},
   "source": [
    "Réglage des paramètres :"
   ]
  },
  {
   "cell_type": "code",
   "execution_count": null,
   "metadata": {},
   "outputs": [],
   "source": [
    "Ymax = 1    # amplitude de la deuxième onde en m\n",
    "T = 1    # période en s\n",
    "tmax = 3 * T    # valeur maximale de t afin d'afficher 3 périodes à l'écran\n",
    "phases = 50    # nombre de valeurs différentes pour la phase\n",
    "\n",
    "t = linspace(0, tmax, 100)    # intervalle de temps d'étude\n",
    "y1 = sin(2 * pi / T * t)    # fonction du temps correspondant à la première onde\n",
    "dphi = 2 * pi / phases    # écart entre les valeurs successives de la phase"
   ]
  },
  {
   "cell_type": "markdown",
   "metadata": {},
   "source": [
    "Création et réglage de la fenêtre graphique :"
   ]
  },
  {
   "cell_type": "code",
   "execution_count": null,
   "metadata": {},
   "outputs": [],
   "source": [
    "fig = figure()    # création de la fenêtre\n",
    "line = plot(t, y1, '-', [], [], '-', [], [], '-')    # on crée 3 courbes, la première est fixe\n",
    "legend(line, [\"y1\", \"y2\", \"y1 + y2\"])\n",
    "\n",
    "xlim(0, tmax)\n",
    "ylim(-Ymax - 1, Ymax + 1)\n",
    "grid()\n",
    "xlabel(\"t (s)\")\n",
    "ylabel(\"y (m)\")\n",
    "title(\"animation : interférences en fonction du déphasage\")\n",
    "close()"
   ]
  },
  {
   "cell_type": "markdown",
   "metadata": {},
   "source": [
    "Calcul de l'animation :"
   ]
  },
  {
   "cell_type": "code",
   "execution_count": null,
   "metadata": {},
   "outputs": [],
   "source": [
    "def animate(i):    # i est un paramètre allant de 0 à phases, qui augmente de 1 à chaque frame\n",
    "    phi = i * dphi\n",
    "    y2 = Ymax * sin(2 * pi / T * t + phi)\n",
    "    y = y1 + y2\n",
    "       \n",
    "    line[1].set_data(t, y2)\n",
    "    line[2].set_data(t, y)  \n",
    "    return(line)"
   ]
  },
  {
   "cell_type": "markdown",
   "metadata": {},
   "source": [
    "Lancement de l'animation (soyez patient, cela prend du temps) :"
   ]
  },
  {
   "cell_type": "code",
   "execution_count": null,
   "metadata": {},
   "outputs": [],
   "source": [
    "rc('animation', html = 'jshtml')\n",
    "FuncAnimation(fig, animate, frames = phases, interval = 30, blit = True, repeat = False)"
   ]
  }
 ],
 "metadata": {
  "celltoolbar": "Format de la Cellule Texte Brut",
  "kernelspec": {
   "display_name": "Python 3 (ipykernel)",
   "language": "python",
   "name": "python3"
  },
  "language_info": {
   "codemirror_mode": {
    "name": "ipython",
    "version": 3
   },
   "file_extension": ".py",
   "mimetype": "text/x-python",
   "name": "python",
   "nbconvert_exporter": "python",
   "pygments_lexer": "ipython3",
   "version": "3.10.12"
  },
  "widgets": {
   "application/vnd.jupyter.widget-state+json": {
    "state": {},
    "version_major": 2,
    "version_minor": 0
   }
  }
 },
 "nbformat": 4,
 "nbformat_minor": 4
}
