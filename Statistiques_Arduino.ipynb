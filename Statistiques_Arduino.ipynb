{
 "cells": [
  {
   "cell_type": "markdown",
   "metadata": {
    "jupyter": {
     "source_hidden": true
    },
    "slideshow": {
     "slide_type": ""
    },
    "tags": []
   },
   "source": [
    "On commence par importer les bibliothèques nécessaires. Attention : NE PAS EFFACER !"
   ]
  },
  {
   "cell_type": "code",
   "execution_count": 1,
   "metadata": {
    "slideshow": {
     "slide_type": ""
    },
    "tags": []
   },
   "outputs": [],
   "source": [
    "%run Import_bibliotheques.ipynb\n",
    "%run arduino.ipynb"
   ]
  },
  {
   "cell_type": "code",
   "execution_count": 2,
   "metadata": {
    "tags": []
   },
   "outputs": [
    {
     "ename": "ValueError",
     "evalue": "could not convert string to float: '941,2.38'",
     "output_type": "error",
     "traceback": [
      "\u001b[0;31m---------------------------------------------------------------------------\u001b[0m",
      "\u001b[0;31mValueError\u001b[0m                                Traceback (most recent call last)",
      "Cell \u001b[0;32mIn[2], line 21\u001b[0m\n\u001b[1;32m     18\u001b[0m     \u001b[38;5;28;01mcontinue\u001b[39;00m\n\u001b[1;32m     20\u001b[0m \u001b[38;5;66;03m# Convertir la ligne en nombre (assumant que les données sont des nombres)\u001b[39;00m\n\u001b[0;32m---> 21\u001b[0m valeur \u001b[38;5;241m=\u001b[39m \u001b[38;5;28;43mfloat\u001b[39;49m\u001b[43m(\u001b[49m\u001b[43mligne\u001b[49m\u001b[43m)\u001b[49m\n\u001b[1;32m     23\u001b[0m \u001b[38;5;66;03m# Ajouter les données à la liste\u001b[39;00m\n\u001b[1;32m     24\u001b[0m liste_donnees\u001b[38;5;241m.\u001b[39mappend(valeur)\n",
      "\u001b[0;31mValueError\u001b[0m: could not convert string to float: '941,2.38'"
     ]
    }
   ],
   "source": [
    "ser.flushInput()  # Vider le tampon de réception\n",
    "\n",
    "# Envoyer la commande de reset\n",
    "ser.setDTR(False)  # DTR (Data Terminal Ready) à l'état bas pendant un court instant\n",
    "time.sleep(0.1)\n",
    "ser.setDTR(True)  # DTR à l'état haut pour terminer le reset\n",
    "\n",
    "# Liste pour stocker les données\n",
    "liste_donnees = []\n",
    "\n",
    "while True:\n",
    "    try:\n",
    "        # Lire une ligne de données depuis le port série\n",
    "        ligne = ser.readline().decode().strip()\n",
    "\n",
    "        # Vérifier si la ligne est vide ou invalide\n",
    "        if ligne == '':\n",
    "            continue\n",
    "\n",
    "        # Convertir la ligne en nombre (assumant que les données sont des nombres)\n",
    "        valeur = float(ligne)\n",
    "        \n",
    "        # Ajouter les données à la liste\n",
    "        liste_donnees.append(valeur)\n",
    "\n",
    "    except KeyboardInterrupt:\n",
    "        # Interrompre la boucle si l'utilisateur appuie sur Ctrl+C\n",
    "        break\n",
    "\n",
    "# Fermer la connexion série\n",
    "ser.close()"
   ]
  },
  {
   "cell_type": "code",
   "execution_count": null,
   "metadata": {},
   "outputs": [],
   "source": [
    "donnees = array(liste_donnees)\n",
    "print(f\"valeurs mesurées : {donnees}\")"
   ]
  },
  {
   "cell_type": "markdown",
   "metadata": {},
   "source": [
    "Calculs statistiques (moyenne, écart-type et incertitude-type) sur une série de mesures x :"
   ]
  },
  {
   "cell_type": "code",
   "execution_count": null,
   "metadata": {},
   "outputs": [],
   "source": [
    "variable = donnees\n",
    "moy = mean(variable)\n",
    "ecartType = std(variable, ddof=1)  # ddof=1 permet de calculer l'écart-type expérimental Sn-1\n",
    "incertitudeType = ecartType / sqrt(len(variable))"
   ]
  },
  {
   "cell_type": "markdown",
   "metadata": {},
   "source": [
    "Affichage des valeurs statistiques :"
   ]
  },
  {
   "cell_type": "code",
   "execution_count": null,
   "metadata": {},
   "outputs": [],
   "source": [
    "resultat = f\"moyenne : {moy:.5} ; incertitude-type : {incertitudeType:.2}\"    # crée une ligne de texte résumant les résultats\n",
    "print(resultat)    # affiche le résultat"
   ]
  },
  {
   "cell_type": "markdown",
   "metadata": {},
   "source": [
    "On trace l'histogramme :"
   ]
  },
  {
   "cell_type": "code",
   "execution_count": null,
   "metadata": {},
   "outputs": [],
   "source": [
    "subplot(1, 1, 1)    # lignes, colonnes, numéro du graphique\n",
    "\n",
    "hist(variable, bins=50, label=resultat)    # trace un histogramme à partir d'une série de mesures x ; options possibles : range=(,) et bins=nombre ou liste.\n",
    "\n",
    "grid()    # ajoute une grille\n",
    "legend()    # ajoute la légende au graphique\n",
    "title(\"\")    # mettre le titre désiré entre les guillemets\n",
    "xlabel(\"x\")    # mettre le nom de l'axe des abscisses entre les guillemets\n",
    "ylabel(\"Nombre de tirages\");    # mettre le nom de l'axe des ordonnées entre les guillemets. Le point-virgule final évite d'afficher un texte récapitulatif."
   ]
  }
 ],
 "metadata": {
  "kernelspec": {
   "display_name": "Python 3 (ipykernel)",
   "language": "python",
   "name": "python3"
  },
  "language_info": {
   "codemirror_mode": {
    "name": "ipython",
    "version": 3
   },
   "file_extension": ".py",
   "mimetype": "text/x-python",
   "name": "python",
   "nbconvert_exporter": "python",
   "pygments_lexer": "ipython3",
   "version": "3.10.12"
  },
  "widgets": {
   "application/vnd.jupyter.widget-state+json": {
    "state": {},
    "version_major": 2,
    "version_minor": 0
   }
  }
 },
 "nbformat": 4,
 "nbformat_minor": 4
}
