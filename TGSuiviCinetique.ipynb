{
 "cells": [
  {
   "cell_type": "markdown",
   "metadata": {
    "editable": true,
    "jupyter": {
     "source_hidden": true
    },
    "slideshow": {
     "slide_type": ""
    },
    "tags": []
   },
   "source": [
    "On commence par importer les bibliothèques nécessaires. Attention : NE PAS EFFACER !"
   ]
  },
  {
   "cell_type": "code",
   "execution_count": null,
   "metadata": {
    "editable": true,
    "slideshow": {
     "slide_type": ""
    },
    "tags": []
   },
   "outputs": [],
   "source": [
    "%run Import_bibliotheques.ipynb"
   ]
  },
  {
   "cell_type": "markdown",
   "metadata": {},
   "source": [
    "Compléter avec les valeurs relevées au cours du TP :"
   ]
  },
  {
   "cell_type": "code",
   "execution_count": null,
   "metadata": {},
   "outputs": [],
   "source": [
    "t = array([])    # en s\n",
    "A = array([])    # sans unité"
   ]
  },
  {
   "cell_type": "markdown",
   "metadata": {},
   "source": [
    "Calcul des grandeurs utiles :"
   ]
  },
  {
   "cell_type": "code",
   "execution_count": null,
   "metadata": {},
   "outputs": [],
   "source": [
    "# étalonnage du colorimètre :\n",
    "c_I2etalon =     # en mol/L\n",
    "A_I2etalon =    # à compléter\n",
    "k = A_I2etalon / c_I2etalon    # coefficient de la loi de Beer-Lambert\n",
    "\n",
    "# calcul de l'avancement x :\n",
    "VH2O2verse =     # en L\n",
    "Vtot =     # en L\n",
    "cI2 = A / k    # concentration en I2\n",
    "x = cI2 * Vtot    # avancement final (d'après le tableau d'avancement)\n",
    "\n",
    "# on détermine maintenant la concentration réelle de la solution d'eau oxygénée utilisée :\n",
    "xf = x[-1]    # valeur finale de l'avancement\n",
    "cH2O2i = xf / VH2O2verse    # d'après le tableau d'avancement si l'eau oxygénée est le réactif limitant (à établir)\n",
    "\n",
    "# évolution de la concentration en eau oxygénée :\n",
    "nH2O2 = cH2O2i * VH2O2verse - x    # quantité d'eau oxygénée d'après le tableau d'avancement\n",
    "cH2O2 = nH2o2 / Vtot    # concentration de l'eau oxygénée à chaque instant\n",
    "\n",
    "# vitesse volumique de disparition de l'eau oxygénée :\n",
    "vdH2O2 = - gradient(cH2O2) / gradient(t)    # d'après la définition de la vitesse volumique de disparition d'un réactif. La fonction gradient calcule un tableau donnant les variations successives d'une grandeur."
   ]
  },
  {
   "cell_type": "markdown",
   "metadata": {},
   "source": [
    "Calcul des caractéristiques de la courbe de régression. Attention : NE PAS SUPPRIMER, et ne le modifier que si les paramètres par défaut ne donnent pas de bon résultat :"
   ]
  },
  {
   "cell_type": "code",
   "execution_count": null,
   "metadata": {
    "jupyter": {
     "source_hidden": true
    }
   },
   "outputs": [],
   "source": [
    "def Modele(expression, x, y):\n",
    "    \n",
    "    modele = ExpressionModel(expression)    # si la variable indépendante n'est pas \"x\", ajouter comme argument independant_vars = [\"nom\"])\n",
    "\n",
    "    # Cette partie devine les paramètres et leur attribue une valeur initiale de 1 pour la recherche\n",
    "    parametres = modele.make_params()\n",
    "    for i in parametres :\n",
    "        modele.set_param_hint(i, value = 1)\n",
    "    parametres = modele.make_params()\n",
    "\n",
    "    #modele.set_param_hint('a', value = 1, vary = True, min = -inf, max = inf)    # À compléter pour changer les valeurs initiales des paramètres. Le dernier argument est expr (string)\n",
    "\n",
    "    resultat = modele.fit(y, parametres, x = x)    # Entrer ici le nom de la variable en x et en y, pour le calcul final des paramètres\n",
    "\n",
    "    # On affiche les valeurs trouvées pour les paramètres :\n",
    "    valeurs = \"\"\n",
    "    for key in resultat.params:\n",
    "        valeurs += f\"{key} = {resultat.params[key].value} ; incertitude : {resultat.params[key].stderr}\\n\"\n",
    "    return(modele, resultat.params, valeurs, expression)"
   ]
  },
  {
   "cell_type": "markdown",
   "metadata": {},
   "source": [
    "Tracé de de l'évolution de l'avancement au cours du temps ( remarque : passer temporairement les paramètres de graphique à @matplotlib ipympl dans le bloc 1 permet de trouver la valeur du temps de demi-réaction sur le graphique):"
   ]
  },
  {
   "cell_type": "code",
   "execution_count": null,
   "metadata": {},
   "outputs": [],
   "source": [
    "plot(t, x, '-')    # abscisse, ordonnée, options : + o . , s points   - -- -. : lignes  b g r y m c k w couleurs ; label est la légende associée à la courbe\n",
    "grid()    # ajoute une grille\n",
    "title(\"\")    # mettre le titre désiré entre les guillemets\n",
    "xlabel(\"\")    # mettre le nom de l'axe des abscisses entre les guillemets\n",
    "ylabel(\"\");    # mettre le nom de l'axe des ordonnées entre les guillemets. Le point-virgule final évite d'afficher un texte récapitulatif."
   ]
  },
  {
   "cell_type": "markdown",
   "metadata": {},
   "source": [
    "Tracés côte à côte de l'évolution de la concentration de l'eau oxygénée et de sa vitesse de disparition au cours du temps (repasser en @matplotlib inline) :"
   ]
  },
  {
   "cell_type": "code",
   "execution_count": null,
   "metadata": {},
   "outputs": [],
   "source": [
    "subplot(1, 2, 1)    # lignes, colonnes, numéro du graphique\n",
    "\n",
    "plot(t, cH2O2, '-', label =\"\")    # abscisse, ordonnée, options : + o . , s points   - -- -. : lignes  b g r y m c k w couleurs ; label est la légende associée à la courbe\n",
    "\n",
    "subplot(1, 2, 2)    # lignes, colonnes, numéro du graphique\n",
    "\n",
    "plot(t, vdH2O2, '-', label =\"\")\n",
    "\n",
    "grid()    # ajoute une grille\n",
    "legend()    # fait apparaître les labels\n",
    "title(\"\")    # mettre le titre désiré entre les guillemets\n",
    "xlabel(\"\")    # mettre le nom de l'axe des abscisses entre les guillemets\n",
    "ylabel(\"\");    # mettre le nom de l'axe des ordonnées entre les guillemets. Le point-virgule final évite d'afficher un texte récapitulatif."
   ]
  },
  {
   "cell_type": "markdown",
   "metadata": {},
   "source": [
    "Test pour voir si la vitesse de réaction est d'ordre 1 :"
   ]
  },
  {
   "cell_type": "code",
   "execution_count": null,
   "metadata": {},
   "outputs": [],
   "source": [
    "plot(cH2O2, vdH2O2, '+', label = \"points expérimentaux\")    # abscisse, ordonnée, options : + o . , s points   - -- -. : lignes  b g r y m c k w couleurs ; label est la légende associée à la courbe\n",
    "\n",
    "# Tracé du modèle :\n",
    "xMod = linspace(min(cH2O2), max(cH2O2), 30)    # Intervalle de valeurs pour le modèle : (début, fin, nombre de points)\n",
    "\n",
    "modele, parametres, valeurs, expression = Modele(\"a * x\", cH2O2, vdH2O2)    # Remplir ici l'expression du modèle, et les variables en abscisse et en ordonnée\n",
    "yMod = modele.eval(parametres, x = xMod)\n",
    "plot(xMod, yMod, '-', label=f\"Modèle : {expression} \\n {valeurs}\" )    # trace la courbe du modèle\n",
    "\n",
    "grid()    # ajoute une grille\n",
    "legend()    # ajoute la légende au graphique\n",
    "title(\"\")    # mettre le titre désiré entre les guillemets\n",
    "xlabel(\"\")    # mettre le nom de l'axe des abscisses entre les guillemets\n",
    "ylabel(\"\");    # mettre le nom de l'axe des ordonnées entre les guillemets. Le point-virgule final évite d'afficher un texte récapitulatif."
   ]
  },
  {
   "cell_type": "markdown",
   "metadata": {},
   "source": [
    "Conclure :"
   ]
  },
  {
   "cell_type": "raw",
   "metadata": {},
   "source": []
  }
 ],
 "metadata": {
  "kernelspec": {
   "display_name": "Python 3 (ipykernel)",
   "language": "python",
   "name": "python3"
  },
  "language_info": {
   "codemirror_mode": {
    "name": "ipython",
    "version": 3
   },
   "file_extension": ".py",
   "mimetype": "text/x-python",
   "name": "python",
   "nbconvert_exporter": "python",
   "pygments_lexer": "ipython3",
   "version": "3.10.12"
  },
  "widgets": {
   "application/vnd.jupyter.widget-state+json": {
    "state": {},
    "version_major": 2,
    "version_minor": 0
   }
  }
 },
 "nbformat": 4,
 "nbformat_minor": 4
}
