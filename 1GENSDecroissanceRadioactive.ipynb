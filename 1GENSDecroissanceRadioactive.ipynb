{
 "cells": [
  {
   "cell_type": "markdown",
   "metadata": {
    "editable": true,
    "slideshow": {
     "slide_type": ""
    },
    "tags": []
   },
   "source": [
    "On commence par importer les bibliothèques nécessaires. Attention : NE PAS EFFACER !"
   ]
  },
  {
   "cell_type": "code",
   "execution_count": null,
   "metadata": {
    "editable": true,
    "slideshow": {
     "slide_type": ""
    },
    "tags": []
   },
   "outputs": [],
   "source": [
    "%run Import_bibliotheques.ipynb"
   ]
  },
  {
   "cell_type": "markdown",
   "metadata": {},
   "source": [
    "Calcul du nombre de noyaux restant :"
   ]
  },
  {
   "cell_type": "code",
   "execution_count": null,
   "metadata": {
    "tags": []
   },
   "outputs": [],
   "source": [
    "NbNoyaux = 10\n",
    "t = arange(0, 10, 1)    # durée de la simulation\n",
    "proba = 1e-1\n",
    "\n",
    "N = [NbNoyaux]\n",
    "for i in t[:-1] :\n",
    "    alea = random(NbNoyaux)\n",
    "    NoyauxDesintegres = (sum(alea < proba))\n",
    "    NbNoyaux = NbNoyaux - NoyauxDesintegres\n",
    "    N.append(NbNoyaux)\n",
    "    \n",
    "plot(t, N, '-')\n",
    "\n",
    "grid()    # ajoute une grille\n",
    "title(\"Évolution du nombre de noyaux restant\")\n",
    "xlabel(\"Temps\")\n",
    "ylabel(\"N\");"
   ]
  }
 ],
 "metadata": {
  "kernelspec": {
   "display_name": "Python 3 (ipykernel)",
   "language": "python",
   "name": "python3"
  },
  "language_info": {
   "codemirror_mode": {
    "name": "ipython",
    "version": 3
   },
   "file_extension": ".py",
   "mimetype": "text/x-python",
   "name": "python",
   "nbconvert_exporter": "python",
   "pygments_lexer": "ipython3",
   "version": "3.10.12"
  },
  "widgets": {
   "application/vnd.jupyter.widget-state+json": {
    "state": {},
    "version_major": 2,
    "version_minor": 0
   }
  }
 },
 "nbformat": 4,
 "nbformat_minor": 4
}
