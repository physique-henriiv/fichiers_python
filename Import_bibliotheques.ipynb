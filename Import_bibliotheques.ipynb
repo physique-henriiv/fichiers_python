{
 "cells": [
  {
   "cell_type": "markdown",
   "metadata": {
    "editable": true,
    "slideshow": {
     "slide_type": ""
    },
    "tags": [
     "remove_cell"
    ]
   },
   "source": [
    "Importation des bibliothèques nécessaires, et calcul des caractéristiques du modèle. Attention : NE PAS EFFACER !"
   ]
  },
  {
   "cell_type": "code",
   "execution_count": null,
   "metadata": {
    "editable": true,
    "slideshow": {
     "slide_type": ""
    },
    "tags": [
     "remove_cell"
    ]
   },
   "outputs": [],
   "source": [
    "from pylab import *    # charge toutes les bibliothèques scientifiques\n",
    "from scipy import interpolate\n",
    "from scipy.optimize import curve_fit    # permet de modéliser selon un modèle personnalisé\n",
    "from lmfit import minimize,Parameters,Parameter,report_fit\n",
    "from lmfit.models import ExpressionModel\n",
    "from time import *\n",
    "import re\n",
    "import numpy as np\n",
    "#import matplotlib.pyplot as plt\n",
    "import serial\n",
    "import ipywidgets as widgets\n",
    "from IPython.display import display, clear_output"
   ]
  },
  {
   "cell_type": "code",
   "execution_count": 6,
   "metadata": {},
   "outputs": [],
   "source": [
    "def tableurVersVariables(fichier, delimiter=','):\n",
    "    tableau = genfromtxt(fichier, delimiter=delimiter, skip_header=0, names=True)    # skip_header permet de ne pas lire les n premières lignes du fichier (utile si il y a des en-têtes) ; delimiter est le signe séparant les valeurs dans les différentes colonnes : par exemple, on peut parfois mettre delimiter=None si les séparateurs sont des espaces\n",
    "    for i in tableau.dtype.names:    # pour chaque nom détecté en en-tete de colonnes\n",
    "        globals()[i] = tableau[i]    # on crée une variable qui porte le meme nom et on y attribue les valeurs de la colonne"
   ]
  },
  {
   "cell_type": "markdown",
   "metadata": {},
   "source": [
    "Paramètres graphiques"
   ]
  },
  {
   "cell_type": "code",
   "execution_count": 7,
   "metadata": {
    "editable": true,
    "slideshow": {
     "slide_type": ""
    },
    "tags": [
     "remove_cell"
    ]
   },
   "outputs": [],
   "source": [
    "# Si on veut différents graphiques interactifs dans la feuille, remplacer inline par ipympl dans la ligne suivante\n",
    "%matplotlib inline\n",
    "rcParams['figure.figsize'] = [16, 8]    # pour une fenetre graphique adaptée\n",
    "rcParams['font.size'] = 15    # pour un texte plus grand\n",
    "rcParams['lines.markersize'] = 15    # pour des symboles plus grands\n",
    "rcParams['lines.markeredgewidth'] = 2    # pour des symboles plus larges"
   ]
  },
  {
   "cell_type": "markdown",
   "metadata": {},
   "source": [
    "Calculs des modélisations"
   ]
  },
  {
   "cell_type": "code",
   "execution_count": 8,
   "metadata": {
    "editable": true,
    "slideshow": {
     "slide_type": ""
    },
    "tags": [
     "remove_cell"
    ]
   },
   "outputs": [],
   "source": [
    "# Calculs du modèle. Attention : NE JAMAIS MODIFIER LES LIGNES SUIVANTES !\n",
    "def Modele(expression, x, y, contraintes):\n",
    "    \n",
    "    modele = ExpressionModel(expression)    # si la variable indépendante n'est pas \"x\", ajouter comme argument independant_vars = [\"nom\"])\n",
    "\n",
    "    # Cette partie devine les paramètres et leur attribue une valeur initiale de 1 pour la recherche\n",
    "    parametres = modele.make_params()\n",
    "    for i in parametres :\n",
    "        modele.set_param_hint(i, value = 1)\n",
    "\n",
    "    for j in contraintes :\n",
    "        if j[0] in parametres :\n",
    "            modele.set_param_hint(j[0], value = j[1], vary = j[2], min = j[3], max = j[4])    # À compléter pour changer les valeurs initiales des paramètres. Le dernier argument est expr (string)\n",
    "\n",
    "    parametres = modele.make_params()\n",
    "    \n",
    "    resultat = modele.fit(y, parametres, x = x)    # Entrer ici le nom de la variable en x et en y, pour le calcul final des paramètres\n",
    "\n",
    "    # On affiche les valeurs trouvées pour les paramètres :\n",
    "    valeurs = \"\"\n",
    "    for key in resultat.params:\n",
    "        valeurs += f\"{key} = {resultat.params[key].value:.3g} ; incertitude : {resultat.params[key].stderr:.2g}\\n\"\n",
    "    return(modele, resultat.params, valeurs, expression)\n",
    "\n",
    "def Calcul_modele(abscisse,  ordonnee, equation, debut, fin, debutCourbe, finCourbe, contraintes):\n",
    "    ## On commence par arranger les expressions avec \"x\" comme variable, car lmfit travaille avec x par défaut :\n",
    "    ord = ordonnee\n",
    "    eq = equation\n",
    "    equation = re.sub(r\"\\b\"+abscisse+r\"\\b\",\"x\", equation)\n",
    "    abscisse = globals()[abscisse]\n",
    "    ordonnee = globals()[ordonnee]\n",
    "    if debutCourbe == None :\n",
    "        debutCourbe = min(abscisse)\n",
    "    if finCourbe == None :\n",
    "        finCourbe = max(abscisse)\n",
    "    \n",
    "    # On calcule maintenant les grandeurs liées au modèle :\n",
    "    xMod = linspace(debutCourbe, finCourbe, 30)    # Intervalle de valeurs pour le modèle : (début, fin, nombre de points)\n",
    "    modele, parametres, valeurs, expression = Modele(equation, abscisse[debut:fin], ordonnee[debut:fin], contraintes)    # Expression du modèle, et variables en abscisse et en ordonnée ; on peut changer les plages de valeurs à utiliser pour le calcul\n",
    "    expression = f\"{ord} = {eq}\"\n",
    "    yMod = modele.eval(parametres, x = xMod)\n",
    "    \n",
    "    # Les paramètres sont définis de façon globale, et utilisables dans des calculs :\n",
    "    for key in parametres:\n",
    "        globals()[key] = parametres[key].value\n",
    "    \n",
    "    return(xMod, yMod, expression, valeurs, abscisse, ordonnee, modele, parametres)"
   ]
  }
 ],
 "metadata": {
  "kernelspec": {
   "display_name": ".venv",
   "language": "python",
   "name": "python3"
  },
  "language_info": {
   "codemirror_mode": {
    "name": "ipython",
    "version": 3
   },
   "file_extension": ".py",
   "mimetype": "text/x-python",
   "name": "python",
   "nbconvert_exporter": "python",
   "pygments_lexer": "ipython3",
   "version": "3.12.3"
  },
  "widgets": {
   "application/vnd.jupyter.widget-state+json": {
    "state": {},
    "version_major": 2,
    "version_minor": 0
   }
  }
 },
 "nbformat": 4,
 "nbformat_minor": 4
}
