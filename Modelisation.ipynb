{
 "cells": [
  {
   "cell_type": "markdown",
   "metadata": {
    "editable": true,
    "slideshow": {
     "slide_type": ""
    },
    "tags": [
     "remove_cell"
    ]
   },
   "source": [
    "Importation des bibliothèques nécessaires, et calcul des caractéristiques du modèle. Attention : NE PAS EFFACER !"
   ]
  },
  {
   "cell_type": "code",
   "execution_count": null,
   "metadata": {
    "editable": true,
    "jupyter": {
     "source_hidden": true
    },
    "slideshow": {
     "slide_type": ""
    },
    "tags": [
     "remove_cell"
    ]
   },
   "outputs": [],
   "source": [
    "%run Import_bibliotheques.ipynb"
   ]
  },
  {
   "cell_type": "markdown",
   "metadata": {},
   "source": [
    "Importation de tableaux enregistrés localement en fichiers csv :"
   ]
  },
  {
   "cell_type": "code",
   "execution_count": null,
   "metadata": {},
   "outputs": [],
   "source": [
    "tableurVersVariables('tableau.csv')    # indiquer le nom complet du fichier à lire si ce n'est pas 'tableau.csv'"
   ]
  },
  {
   "cell_type": "markdown",
   "metadata": {},
   "source": [
    "Tracé de graphique(s) à partir des tableaux précédents :"
   ]
  },
  {
   "cell_type": "code",
   "execution_count": null,
   "metadata": {
    "tags": []
   },
   "outputs": [],
   "source": [
    "abscisse = \"x\"    # choix de la grandeur en abscisse, pour le graphique et pour le modèle\n",
    "ordonnee = \"y\"    # choix de la grandeur en ordonnée, pour le graphique et pour le modèle\n",
    "incertitudeAbscisse = None    # incertitude types sur l'abscisse ; ça peut être un nombre ou une liste\n",
    "incertitudeOrdonnee = None    # incertitude types sur l'ordonnée ; ça peut être un nombre ou une liste\n",
    "equation = \"a * x + b\"    # expression de l'équation correspondant au modèle recherché ; la variable peut être x ou le nom donné en abscisse\n",
    "debut = None    # indice du premier élément à prendre en compte pour le modèle (None : le premier de la liste)\n",
    "fin = None    # indice du dernier élément à prendre en compte pour le modèle (None : le dernier de la liste)\n",
    "debutCourbe = None    # valeur de l'abscisse où débute le tracé du modèle (None : la plus petite valeur de l'abscisse)\n",
    "finCourbe = None    # valeur de l'abscisse où se termine le tracé du modèle (None : la plus grande valeur de l'abscisse)\n",
    "contraintes = [['a', 1, True, -inf, inf]]    # ['nomDuParametre', valeurInitiale, variabilité, min, max]   à remplir pour chaque paramètre du modèle si la recherche automatique ne trouve pas de valeurs cohérentes\n",
    "\n",
    "subplot(1,1,1)    # création d'une fenêtre de graphique : lignes, colonnes, numéro\n",
    "xMod, yMod, expression, valeurs, abscisse, ordonnee, modele, parametres = Calcul_modele(abscisse, ordonnee, equation, debut, fin, debutCourbe, finCourbe, contraintes)    # Calcul des valeurs du modèle, ne pas modifier\n",
    "\n",
    "# Tracé des points expérimentaux :\n",
    "plot(abscisse, ordonnee, 'x', label=\"\")    # abscisse, ordonnée, options : + o . , s points   - -- -. : lignes  b g r y m c k w couleurs ; label est la légende associée à la courbe\n",
    "errorbar(abscisse, ordonnee, xerr=incertitudeAbscisse, yerr=incertitudeOrdonnee, fmt='none', ecolor='m')    # fmt trace la ligne discontinue et les points de mesure ; ecolor permet d'avoir une couleur différente des données\n",
    "\n",
    "# Tracé du modèle :\n",
    "plot(xMod, yMod, '-', label=f\"Modèle :    {expression} \\n {valeurs}\" )    # trace la courbe du modèle\n",
    "\n",
    "#axis('equal')    # à décommenter si on veut un repère orthonormé\n",
    "grid()    # ajoute une grille\n",
    "legend()    # ajoute la légende au graphique\n",
    "title(\"Mon titre\")    # mettre le titre désiré entre les guillemets\n",
    "xlabel(\"\")    # mettre le nom de l'axe des abscisses entre les guillemets\n",
    "ylabel(\"\");    # mettre le nom de l'axe des ordonnées entre les guillemets. Le point-virgule final évite d'afficher un texte récapitulatif."
   ]
  },
  {
   "cell_type": "markdown",
   "metadata": {
    "tags": [
     "remove_cell"
    ]
   },
   "source": [
    "Calcul de valeurs particulières :"
   ]
  },
  {
   "cell_type": "code",
   "execution_count": null,
   "metadata": {
    "jupyter": {
     "source_hidden": true
    },
    "tags": [
     "remove_cell"
    ]
   },
   "outputs": [],
   "source": [
    "# Calcul dans le sens direct :\n",
    "valeur_de_x = 1    # attribuer un nombre ou une liste de nombres à valeur_de_x \n",
    "valeur_de_y = modele.eval(parametres, x = valeur_de_x)    \n",
    "print(valeur_de_y)"
   ]
  }
 ],
 "metadata": {
  "kernelspec": {
   "display_name": "Python 3 (ipykernel)",
   "language": "python",
   "name": "python3"
  },
  "language_info": {
   "codemirror_mode": {
    "name": "ipython",
    "version": 3
   },
   "file_extension": ".py",
   "mimetype": "text/x-python",
   "name": "python",
   "nbconvert_exporter": "python",
   "pygments_lexer": "ipython3",
   "version": "3.10.12"
  },
  "widgets": {
   "application/vnd.jupyter.widget-state+json": {
    "state": {},
    "version_major": 2,
    "version_minor": 0
   }
  }
 },
 "nbformat": 4,
 "nbformat_minor": 4
}
