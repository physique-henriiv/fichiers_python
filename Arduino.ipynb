{
 "cells": [
  {
   "cell_type": "code",
   "execution_count": null,
   "metadata": {},
   "outputs": [],
   "source": [
    "import serial.tools.list_ports\n",
    "\n",
    "def detect_arduino():\n",
    "    ports = list(serial.tools.list_ports.comports())\n",
    "    for port in ports:\n",
    "        if \"Arduino\" in port.description or \"ttyACM\" in port.device:\n",
    "            return port.device\n",
    "    raise Exception(\"Arduino non détecté. Veuillez vérifier la connexion.\")"
   ]
  },
  {
   "cell_type": "code",
   "execution_count": null,
   "metadata": {
    "editable": true,
    "hideCode": true,
    "hidePrompt": true,
    "slideshow": {
     "slide_type": ""
    },
    "tags": [
     "remove_cell"
    ]
   },
   "outputs": [],
   "source": [
    "def connexion_arduino():\n",
    "    global ser\n",
    "    \n",
    "    # Détecter automatiquement le port série de l'Arduino\n",
    "    port = detect_arduino()\n",
    "    baudrate = 9600  # Assurez-vous que la vitesse correspond à celle configurée sur la carte Arduino\n",
    "    \n",
    "    # Ouvrir la connexion série\n",
    "    ser = serial.Serial(port, baudrate)\n",
    "    \n",
    "    # Attendre un court instant pour permettre la connexion\n",
    "    sleep(2)"
   ]
  },
  {
   "cell_type": "code",
   "execution_count": 9,
   "metadata": {
    "tags": []
   },
   "outputs": [],
   "source": [
    "def reset_arduino():\n",
    "    ser.reset_input_buffer()\n",
    "    # Envoyer la commande de reset\n",
    "    ser.setDTR(False)    # DTR (Data Terminal Ready) à l'état bas pendant un court instant\n",
    "    sleep(0.1)\n",
    "    ser.reset_input_buffer()\n",
    "    #ser.flushInput()    # reinitialisation des données\n",
    "    ser.setDTR(True)    # DTR à l'état haut pour terminer le reset"
   ]
  },
  {
   "cell_type": "code",
   "execution_count": 10,
   "metadata": {
    "tags": []
   },
   "outputs": [],
   "source": [
    "def mesure_unique():\n",
    "    tensions = []\n",
    "    for _ in range(10) :\n",
    "        ligne = ser.readline().decode('utf-8').strip()\n",
    "        if ligne and ',' in ligne:\n",
    "            try:\n",
    "                temps, tension = ligne.split(',')\n",
    "                float(temps)  # Vérifie si le temps est un nombre valide\n",
    "                tension = float(tension)  # Vérifie si la tension est un nombre valide\n",
    "                tensions.append(tension)\n",
    "            except ValueError:\n",
    "                continue  # Si la conversion échoue, on passe à la ligne suivante\n",
    "    ## on élimine les valeurs aberrantes par la méthode IQR :\n",
    "    # Calculer le premier quartile (25ème percentile)\n",
    "    Q1 = percentile(tensions, 25)\n",
    "    \n",
    "    # Calculer le troisième quartile (75ème percentile)\n",
    "    Q3 = percentile(tensions, 75)\n",
    "    \n",
    "    # Calculer l'IQR\n",
    "    IQR = Q3 - Q1\n",
    "    \n",
    "    # Définir les limites inférieure et supérieure pour les valeurs aberrantes\n",
    "    lower_bound = Q1 - 1.5 * IQR\n",
    "    upper_bound = Q3 + 1.5 * IQR\n",
    "    \n",
    "    # Supprimer les valeurs aberrantes\n",
    "    tensions_non_aberrantes = [value for value in tensions if lower_bound <= value <= upper_bound]\n",
    "\n",
    "    return mean(tensions_non_aberrantes)"
   ]
  },
  {
   "cell_type": "code",
   "execution_count": 11,
   "metadata": {},
   "outputs": [],
   "source": [
    "def lire_ligne_valide():\n",
    "    while True:\n",
    "        ligne = ser.readline().decode('utf-8').strip()\n",
    "        if ligne and ',' in ligne:\n",
    "            try :\n",
    "                temps, tension = ligne.split(',')\n",
    "                float(temps)  # Vérifie si le temps est un nombre valide\n",
    "                float(tension)  # Vérifie si la tension est un nombre valide\n",
    "                return temps, ligne\n",
    "            except ValueError:\n",
    "                continue  # Si la conversion échoue, on passe à la ligne suivante\n"
   ]
  },
  {
   "cell_type": "code",
   "execution_count": 12,
   "metadata": {},
   "outputs": [],
   "source": [
    "def acquisition_donnees(duree):\n",
    "    donnees = \"t,U\"\n",
    "    \n",
    "    while True :\n",
    "        try:\n",
    "            temps, ligne = lire_ligne_valide()\n",
    "            donnees += f\"\\n{ligne}\"\n",
    "            if temps > duree :\n",
    "                break\n",
    "        except KeyboardInterrupt:\n",
    "            # Interrompre la boucle si l'utilisateur appuie sur le bouton stop\n",
    "            break\n",
    "    print(donnees)\n",
    "    # Fermer la connexion série\n",
    "    fichier = open(\"arduino.csv\", 'w')\n",
    "    fichier.write(donnees)\n",
    "    fichier.close()\n",
    "    ser.close()"
   ]
  },
  {
   "cell_type": "code",
   "execution_count": null,
   "metadata": {},
   "outputs": [],
   "source": [
    "def update_graph():\n",
    "    global t, u, line, ax, fig, temps_initial, last_update_time, interval\n",
    "    try:\n",
    "        ligne = ser.readline().decode('utf-8').strip()\n",
    "        print(f\"Ligne reçue : {ligne}\")  # Impression de débogage\n",
    "        if not ligne:\n",
    "            return\n",
    "        \n",
    "        if ',' not in ligne:\n",
    "            print(f\"Ligne invalide reçue : {ligne}\")\n",
    "            return\n",
    "        \n",
    "        valeurs = ligne.split(',')\n",
    "        if len(valeurs) != 2:\n",
    "            print(f\"Format invalide : {ligne}\")\n",
    "            return\n",
    "        \n",
    "        temps, tension = valeurs\n",
    "        temps = float(temps) * 1e-3  # Conversion en secondes\n",
    "        tension = float(tension)\n",
    "        \n",
    "        if temps_initial is None:\n",
    "            temps_initial = temps\n",
    "        \n",
    "        temps_relatif = temps - temps_initial\n",
    "        \n",
    "        # Échantillonner les points de manière uniforme\n",
    "        if temps_relatif >= last_update_time + interval:\n",
    "            t.append(temps_relatif)\n",
    "            u.append(tension)\n",
    "            last_update_time += interval\n",
    "            \n",
    "            line.set_data(t, u)\n",
    "            \n",
    "            clear_output(wait=True)\n",
    "            display(fig)\n",
    "    except Exception as e:\n",
    "        print(f\"Erreur lors de la mise à jour du graphique : {e}\")\n",
    "\n"
   ]
  },
  {
   "cell_type": "code",
   "execution_count": null,
   "metadata": {},
   "outputs": [],
   "source": [
    "def trace_temps_reel(duree):\n",
    "    global t, u, temps_initial, last_update_time, interval\n",
    "    ser.reset_input_buffer()\n",
    "    t = []\n",
    "    u = []\n",
    "    temps_initial = None\n",
    "    last_update_time = 0\n",
    "    interval = duree / 100  # Intervalle pour échantillonner les points\n",
    "    \n",
    "    # Boucle de préchauffage pour lire et ignorer quelques lignes initiales\n",
    "    for _ in range(10):\n",
    "        ser.readline()\n",
    "    \n",
    "    # Ajouter une mesure initiale pour t=0\n",
    "    #update_graph()\n",
    "    \n",
    "    while True:\n",
    "        update_graph()\n",
    "        plt.pause(0.001)  # Réduire davantage la durée de la pause pour augmenter la fréquence de lecture\n",
    "        \n",
    "        if t and t[-1] >= duree:\n",
    "            break\n",
    "    \n",
    "    ser.close()"
   ]
  }
 ],
 "metadata": {
  "celltoolbar": "Hide code",
  "hide_code_all_hidden": false,
  "kernelspec": {
   "display_name": ".venv",
   "language": "python",
   "name": "python3"
  },
  "language_info": {
   "codemirror_mode": {
    "name": "ipython",
    "version": 3
   },
   "file_extension": ".py",
   "mimetype": "text/x-python",
   "name": "python",
   "nbconvert_exporter": "python",
   "pygments_lexer": "ipython3",
   "version": "3.12.3"
  },
  "widgets": {
   "application/vnd.jupyter.widget-state+json": {
    "state": {},
    "version_major": 2,
    "version_minor": 0
   }
  }
 },
 "nbformat": 4,
 "nbformat_minor": 4
}
