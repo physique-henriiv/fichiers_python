{
 "cells": [
  {
   "cell_type": "markdown",
   "metadata": {
    "editable": true,
    "slideshow": {
     "slide_type": ""
    },
    "tags": []
   },
   "source": [
    "On commence par importer les bibliothèques nécessaires. Attention : NE PAS EFFACER !"
   ]
  },
  {
   "cell_type": "code",
   "execution_count": null,
   "metadata": {
    "editable": true,
    "slideshow": {
     "slide_type": ""
    },
    "tags": []
   },
   "outputs": [],
   "source": [
    "%run Import_bibliotheques.ipynb"
   ]
  },
  {
   "cell_type": "markdown",
   "metadata": {},
   "source": [
    "L'équation de réaction est celle associée à la dissolution d'un acide $AH$ dans l'eau :\n",
    "\n",
    "$$AH + H_2O \\rightleftarrows A^- + H_3O^+$$\n",
    "\n",
    "Entrer la valeur du $pK_A$ du couple $AH/A^-$ ainsi que la concentration en soluté apporté :"
   ]
  },
  {
   "cell_type": "code",
   "execution_count": null,
   "metadata": {},
   "outputs": [],
   "source": [
    "pKA = \n",
    "c = "
   ]
  },
  {
   "cell_type": "markdown",
   "metadata": {},
   "source": [
    "À l'équilibre, on montre que \n",
    "\n",
    "$$ K_A=\\frac{c\\tau^2}{c^0(1-\\tau)}$$\n",
    "\n",
    "Pour déterminer le taux d'avancement final $\\tau$, il faut donc chercher les racines d'un polynôme du second degré."
   ]
  },
  {
   "cell_type": "code",
   "execution_count": null,
   "metadata": {},
   "outputs": [],
   "source": [
    "delta = \n",
    "if delta > 0 :\n",
    "    tau1 = \n",
    "    tau2 = \n",
    "    print(f\"Il y a deux solutions pour l'avancement final : {tau1} et {tau2}\")\n",
    "elif delta == 0 :\n",
    "    tau = \n",
    "    print(f\"il y a une solution pour l'avancement final : {tau}\")\n",
    "else :\n",
    "    print(\"Il n'y a aucune solution pour l'avancement final\")"
   ]
  }
 ],
 "metadata": {
  "kernelspec": {
   "display_name": "Python 3 (ipykernel)",
   "language": "python",
   "name": "python3"
  },
  "language_info": {
   "codemirror_mode": {
    "name": "ipython",
    "version": 3
   },
   "file_extension": ".py",
   "mimetype": "text/x-python",
   "name": "python",
   "nbconvert_exporter": "python",
   "pygments_lexer": "ipython3",
   "version": "3.10.12"
  },
  "widgets": {
   "application/vnd.jupyter.widget-state+json": {
    "state": {},
    "version_major": 2,
    "version_minor": 0
   }
  }
 },
 "nbformat": 4,
 "nbformat_minor": 4
}
