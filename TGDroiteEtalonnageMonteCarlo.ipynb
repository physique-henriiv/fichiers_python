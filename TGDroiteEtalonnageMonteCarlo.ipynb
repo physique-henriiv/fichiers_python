{
 "cells": [
  {
   "cell_type": "markdown",
   "metadata": {
    "editable": true,
    "slideshow": {
     "slide_type": ""
    },
    "tags": []
   },
   "source": [
    "On commence par importer les bibliothèques nécessaires :"
   ]
  },
  {
   "cell_type": "code",
   "execution_count": null,
   "metadata": {
    "editable": true,
    "slideshow": {
     "slide_type": ""
    },
    "tags": []
   },
   "outputs": [],
   "source": [
    "%run Import_bibliotheques.ipynb\n",
    "from numpy.random import normal    # charge la fonction de génération de distribution selon une loi normale"
   ]
  },
  {
   "cell_type": "markdown",
   "metadata": {},
   "source": [
    "Entrer les valeurs mesurées des grandeurs dans des tableaux, ainsi que leurs incertitudes types :"
   ]
  },
  {
   "cell_type": "code",
   "execution_count": null,
   "metadata": {},
   "outputs": [],
   "source": [
    "c = array([])    # les 4 lignes sont à compléter\n",
    "uc = \n",
    "A = array([])\n",
    "uA = "
   ]
  },
  {
   "cell_type": "markdown",
   "metadata": {},
   "source": [
    "Visualisation du graphique pour s'assurer de la cohérence des mesures :"
   ]
  },
  {
   "cell_type": "code",
   "execution_count": null,
   "metadata": {},
   "outputs": [],
   "source": [
    "subplot(1, 1, 1)    # lignes, colonnes, numéro du graphique\n",
    "\n",
    "plot(c, A, '+')    # abscisse, ordonnée, options : + o . , s points   - -- -. : lignes  b g r y m c k w couleurs\n",
    "\n",
    "grid()    # ajoute une grille\n",
    "title(r\"droite d'étalonnage\")    # mettre le titre désiré entre les guillemets\n",
    "xlabel(\"$c$ (mol/L)\")    # mettre le nom de l'axe des abscisses entre les guillemets\n",
    "ylabel(\"$A$\");    # mettre le nom de l'axe des ordonnées entre les guillemets. Le point-virgule final évite d'afficher un texte récapitulatif."
   ]
  },
  {
   "cell_type": "markdown",
   "metadata": {},
   "source": [
    "Tirages aléatoires de valeurs selon la méthode Monte Carlo et calcul pour chaque tirage du coefficient directeur et de l'ordonnée à l'origine pour un modèle de type $y=ax+b$ :"
   ]
  },
  {
   "cell_type": "code",
   "execution_count": null,
   "metadata": {},
   "outputs": [],
   "source": [
    "a = []    # liste vide pour les coefficients direxteurs\n",
    "b = []    # liste vide pour les ordonnées à l'origine\n",
    "\n",
    "tirages = 100000    # nombre de simulations\n",
    "\n",
    "for _ in range(tirages):\n",
    "    calea = normal(c,uc)    # tirage aléatoire selon une loi normale\n",
    "    Aalea = normal(A,uA)\n",
    "    \n",
    "    # Insérer ici si nécessaire les formules permettant les calculs des grandeurs en abscisse et en ordonnée :\n",
    "    \n",
    "    \n",
    "    p = polyfit(calea ,Aalea ,1)    # calcul des coefficients du modèle\n",
    "    a.append(p[0])\n",
    "    b.append(p[1])"
   ]
  },
  {
   "cell_type": "markdown",
   "metadata": {},
   "source": [
    "Calcul et affichage des valeurs moyennes et incertitudes-types pour le coefficient directeur et l'ordonnée à l'origine :"
   ]
  },
  {
   "cell_type": "code",
   "execution_count": null,
   "metadata": {},
   "outputs": [],
   "source": [
    "amoy = mean(a)\n",
    "bmoy = mean(b)\n",
    "ua = std(a, ddof=1)\n",
    "ub = std(b, ddof=1)\n",
    "\n",
    "resultat = f\"coefficient directeur : {amoy:.5} incertitude : {ua:.5} ; ordonnée à l'origine : {bmoy:.5} incertitude : {ub:.5}\"\n",
    "print(resultat)"
   ]
  },
  {
   "cell_type": "markdown",
   "metadata": {},
   "source": [
    "Valeur mesurée :"
   ]
  },
  {
   "cell_type": "code",
   "execution_count": null,
   "metadata": {},
   "outputs": [],
   "source": [
    "Ames =     # À compléter"
   ]
  },
  {
   "cell_type": "markdown",
   "metadata": {},
   "source": [
    "Calcul de la valeur de la concentration et de son incertitude-type :"
   ]
  },
  {
   "cell_type": "code",
   "execution_count": null,
   "metadata": {},
   "outputs": [],
   "source": [
    "Amesalea = normal(Ames, uA, tirages)\n",
    "cmesalea = (Amesalea - array(b)) / array(a)\n",
    "\n",
    "cmesmoy = mean(cmesalea)\n",
    "ucmes = std(cmesalea, ddof=1)\n",
    "\n",
    "resultat = f\"concentration moyenne : {cmesmoy:.5} ; incertitude-type : {ucmes:.5}\"\n",
    "print(resultat)"
   ]
  }
 ],
 "metadata": {
  "kernelspec": {
   "display_name": "Python 3 (ipykernel)",
   "language": "python",
   "name": "python3"
  },
  "language_info": {
   "codemirror_mode": {
    "name": "ipython",
    "version": 3
   },
   "file_extension": ".py",
   "mimetype": "text/x-python",
   "name": "python",
   "nbconvert_exporter": "python",
   "pygments_lexer": "ipython3",
   "version": "3.10.12"
  }
 },
 "nbformat": 4,
 "nbformat_minor": 4
}
