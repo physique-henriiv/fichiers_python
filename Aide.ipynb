{
 "cells": [
  {
   "cell_type": "markdown",
   "metadata": {},
   "source": [
    "On commence par importer les bibliothèques nécessaires :"
   ]
  },
  {
   "cell_type": "raw",
   "metadata": {
    "jupyter": {
     "source_hidden": true
    }
   },
   "source": [
    "Python est un langage de programmation et pylab est une bibliothèque permettant de fournir à python toutes les fonctions scientifiques nécessaires : calculs, statistiques, graphiques, modèles, tracé de vecteurs...\n",
    "\n",
    "Pour adapter le fichier basique à l'ouverture au travail à effectuer, il faut compléter, modifier ou répéter certaines lignes.\n",
    "\n",
    "Le symbole # sert pour les commentaires : tout ce qui est présent sur la ligne à partir de ce symbole est ignoré par python lors de l'interprétation du code.\n",
    "\n",
    "Pour rendre inactive une ligne de code, on peut la supprimer ou la faire débuter par le symbole #.\n",
    "\n",
    "Pour rendre inactif un bloc de code, on peut le passer en mode raw (raccourci r). Pour le réactiver, on le passe en mode code (raccourci y).\n",
    "\n",
    "La ligne %matplotlib ipympl permet d'afficher le graphique sous forme interactive (taille, niveau de zoom, déplacement). Par contre, cela ne peur afficher qu'un graphique par feuille de calcul. Si on en désire davantage, on doit les inclure dans la page en remplaçant ipympl par inline, mais ils seront figés.\n",
    "\n",
    "Les lignes rcParams modifient les paramètres d'affichage du graphique, à adapter en fonction du rendu désiré."
   ]
  },
  {
   "cell_type": "markdown",
   "metadata": {},
   "source": [
    "Importation de tableaux enregistrés localement en fichiers csv :"
   ]
  },
  {
   "cell_type": "raw",
   "metadata": {
    "jupyter": {
     "source_hidden": true
    }
   },
   "source": [
    "Si les valeurs ont été enregistrées dans un fichier csv, on peut les récupérer à partir de la ligne\n",
    "\n",
    "tableau = genfromtxt('untitled.csv', delimiter=',', skip_header=0, names=noms)\n",
    "\n",
    "La fonction genfromtxt génére un tableau de valeurs identique à celui lu dans le fichier se trouvant à l'adresse indiquée entre apostrophes (adresse que l'on peut modifier si le fichier ne se trouve pas dans le dossier racine, et il est nécessaire de remplacer untitled par le nom réel du fichier). On l'enregistre ici sous le nom tableau.\n",
    "\n",
    "Le paramètre delimiter indique avec quel caractère les valeurs de colonnes différentes sont séparées dans le fichier csv : il faut laisser ',' si ce sont des virgules, ou indiquer le caractère entre apostrophes s'il est différent. Par exemple si les caractères qui séparent les colonnes sont des  espaces ou des tabulations, il faut écrire delimiter=None.\n",
    "\n",
    "Le paramètre skip_header indique à python combien de lignes il doit sauter au début du fichier lu : c'est utile si ces premières lignes contiennent des titres, des commentaires...  qui ne sont pas ni les noms des variables ni les valeurs numériques. Par exemple, si la première ligne du fichier indique les noms des variables et la deuxième leurs unités, il faut écrire skip_header=2.\n",
    "\n",
    "Si la variable noms a été définie à True, alors la première ligne du fichier csv sera utilisée pour définir les noms des variables.\n",
    "Sinon, il faut définir ces noms manuellement et individuellement sur les lignes :\n",
    "\n",
    "x = tableau[:, 0] # On enregistre la première colonne sous le nom x\n",
    "y = tableau[:, 1] # On enregistre la deuxième colonne sous le nom y    # etc... s'il y a d'autres colonnes"
   ]
  },
  {
   "cell_type": "markdown",
   "metadata": {},
   "source": [
    "Calculs sur les variables :"
   ]
  },
  {
   "cell_type": "raw",
   "metadata": {
    "jupyter": {
     "source_hidden": true
    }
   },
   "source": [
    "Pour créer une grandeur physique contenant des valeurs numériques et lui donner un nom adapté, il faut se baser sur la ligne \n",
    "\n",
    "x = array([])\n",
    "\n",
    "Par exemple, pour une série de valeurs de températures en °C, on peut écrire :\n",
    "\n",
    "T = array([20.5,22,23.5,25.5,28])\n",
    "\n",
    "Les valeurs doivent obligatoirement être séparées par des virgules, et le séparateur décimal est un point.\n",
    "\n",
    "Ainsi définies, on peut additionner, soustraire, multiplier, diviser, ou effectuer d'autres opérations (puissance, cosinus, exponentielle...) sur les valeurs des variables.\n",
    "\n",
    "Par exemple, y = x + 3 ajoute 3 à chaque valeur de x, la nouvelle liste de valeurs est alors enregistrée sous le nom $y$.\n",
    "\n",
    "z = 2 * x + y multiplie chaque valeur de x par 2, puis ajoute la valeur de y de même numéro, à condition que x et y soient deux grandeurs possédant le même nombre de valeurs numériques, puis enregistre le résultat sous le nom z (z devient alors une grandeur de même taille que x et y).\n",
    "\n",
    "Lorsque les grandeurs sont définies, on peut accéder à ses valeurs par leur numéro : chaque élément de la liste est numéroté à partir de 0 : ainsi, T[0] représente la première valeur de la grandeur T, donc dans l'exemple précédent 20.5, alors que T[3] est la quatrième valeur, donc 25.5. On peut aussi numéroter à partir de la fin, avec des numéros négatifs : le dernier élément est le numéro -1, l'avant-dernier le numéro -2,... Ainsi T[-1] vaut 28, T[-5] vaut 20.5.\n",
    "\n",
    "Pour prendre uniquement une plage de valeurs issues de la grandeur, on peut indiquer le début et la fin de cette plage, séparés par le signe : (si on omet une de ces indications, python ira au bout de la liste):\n",
    "\n",
    "T1 = T[1:3] veut dire que la grandeur T1 prend les valeurs de T depuis le numéro 1 inclus jusqu'au numéro 3 exclus, cela revient donc à écrire que T1 = array([22,23.5]).\n",
    "\n",
    "T2 = T[:-1] veut dire que la grandeur T2 prend les valeurs de T depuis le début jusqu'à l'avant-dernier (c'est-à-dire jusqu'au dernier exclus), cela revient donc à écrire que T2 = array([20.5,22,23.5,25.5]).\n",
    "\n",
    "T3 = T[-2:] veut dire que la grandeur T3 prend les valeurs de T depuis l'avant-dernier inclus jusqu'à la fin, cela revient donc à écrire que T3 = array([25.5,28]).\n",
    "\n",
    "On peut de même extraire des lignes ou des colonnes à partir d'un tableau de données à 2 dimensions en suivant la syntaxe tableau[lignes,colonnes] :\n",
    "\n",
    "x = tableau[:,0] signifie qu'on lit toutes les lignes (le : avant la virgule) de la première colonne (le numéro 0 après la virgule), et que ces valeurs sont enregistrées sous le nom x.\n",
    "\n",
    "De même y = tableau[:,1] lit les valeurs de la deuxième colonne et les enregistre sous le nom y.\n",
    "\n",
    "La notation entre crochets représente des listes d'éléments en python :\n",
    "listex=[x] est une liste contenant un seul élément (x) et nommée listex.\n",
    "La fonction append (listex.append(x)) ajoute un élément à la fin de la liste : ici l'élément x est ajouté à la fin de la liste listex.\n",
    "\n",
    "La notation entre guillemets \"\" représente un texte (conclusion=\"\" est une chaîne de caractères vide appelée conclusion).\n",
    "On peut y ajouter des éléments de texte comme on fait une addition : conclusion+=\"la suite\" ajoute le texte \"la suite\" à la fin de la chaîne conclusion.\n",
    "Le symbole f devant les guillemets permet de remplacer le nom d'une variable placée entre accolades {} par la valeur de cette variable.\n",
    "Dans les chaînes de caractères, on peut placer des équations utilisant la syntaxe LaTeX entre dollars $$.\n",
    "La balise <br/> est un signe de retour à la ligne en HTML."
   ]
  },
  {
   "cell_type": "markdown",
   "metadata": {},
   "source": [
    "Tracer de graphique(s) à partir des tableaux précédents :"
   ]
  },
  {
   "cell_type": "raw",
   "metadata": {
    "jupyter": {
     "source_hidden": true
    }
   },
   "source": [
    "Pour représenter graphiquement les données numériques présentes dans les variables, on utilise la ligne suivante :\n",
    "\n",
    "plot(abscisse, ordonnee, '+', label=\"\")\n",
    "\n",
    "Dans la parenthèse, on détaille les arguments à donner à la fonction de traçage plot séparés par des virgules : d'abord la grandeur qui se placera en abscisse, puis celle en ordonnée, puis entre apostrophes le style de représentation : la lettre est la couleur (k noir, r rouge, b bleu, m magenta, y jaune, g vert, c cyan, o orange\\ldots), le signe est le type de points (+ croix droites, x croix penchées, - points reliés par des segments...), et enfin le texte à inscrire éventuellement en légende de la courbe ce qui est utile notamment si on représente plusieurs courbes sur le même graphique.\n",
    "\n",
    "On choisit les grandeurs à placer en abscisse et en ordonnée en début de bloc, ainsi que l'équation du modèle à tester.\n",
    "Par exemple, pour tracer des valeurs de tensions $U$ en fonction du temps $t$, avec des points représentés par des croix et reliés par des segments bleus, et en légende \"Évolution temporelle de la tension U\", ainsi qu'un modèle linéaire, on écrira :\n",
    "\n",
    "abscisse = \"t\"\n",
    "ordonnee = \"U\"\n",
    "equation = \"a * t\"\n",
    "\n",
    "puis\n",
    "\n",
    "plot(abscisse, ordonnee, 'b+-', label=\"Évolution temporelle de la tension U\")\n",
    "\n",
    "Afin de réaliser une modélisation mathématique de l'évolution de différentes grandeurs à partir des mesures expérimentales, on doit proposer une expression générale.\n",
    "\n",
    "Par exemple, si on recherche une proportionnalité entre deux grandeurs, on écrira expression = \"a * x\".\n",
    "\n",
    "Pour une relation affine, on laissera expression = \"a * x + b\".\n",
    "\n",
    "Si on veut rechercher une courbe parabolique, on écrira un polynôme de degré 2 : expression = \"a * x**2 + b * x + c\",\n",
    "\n",
    "et ainsi de suite avec n'importe quelle expression mathématique.\n",
    "\n",
    "*Remarque :* On n'est pas obligé de nommer les paramètres en suivant l'ordre alphabétique, on peut leur donner n'importe quel nom sans espace mais commençant par une lettre, du moment qu'il n'est pas déjà utilisé.\n",
    "\n",
    "Si l'algorithme ne parvient pas à trouver ces valeurs sans aide, on peut utiliser la ligne :\n",
    "#modele.set_param_hint('a', value = 1, vary = True, min = -inf, max = inf)\n",
    "présente dans le bloc \"Calcul des caractéristiques de la courbe de régression\" pour l'aider en lui indiquant dans quels intervalles raisonnables il doit chercher les valeurs des paramètres.\n",
    "\n",
    "Pour superposer plusieurs courbes sur le même graphique, on ajoute d'autres lignes de même type en modifiant les arguments.\n",
    "\n",
    "Si on préfère représenter des courbes sur des graphiques différents, il faut adapter la commande subplot(i,j,k) avant de décrire la courbe à tracer par plot : le premier numéro (i) indique combien de lignes comptera la grille de graphiques, le deuxième (j) indique combien il y a de colonnes, et le dernier (k) est le numéro du graphique, compté dans le sens de la lecture. \n",
    "\n",
    "Par exemple, subplot(2, 3, 5) indique que le graphique sera le cinquième dans une grille comptant 2 lignes et 3 colonnes : il s'affichera donc à la deuxième ligne, deuxième colonne.\n",
    "\n",
    "La personnalisation du graphique peut se faire en changeant la taille du graphique affiché, en ajoutant un titre : title(\"Ici j'écris mon titre\"), en affichant la légende pour chaque courbe : legend() sans argument, en mettant des noms sur les axes : xlabel(\"le nom de l'abscisse\") et ylabel(\"le nom de l'ordonnée\"), en forçant les échelles à être identiques sur chaque axe : axis('equal'), et en affichant une grille : grid()."
   ]
  },
  {
   "cell_type": "markdown",
   "metadata": {},
   "source": [
    "Tracé de vecteurs :"
   ]
  },
  {
   "cell_type": "markdown",
   "metadata": {
    "jupyter": {
     "source_hidden": true
    }
   },
   "source": [
    "On peut représenter un ensemble de vecteurs en adaptant la ligne\n",
    "\n",
    "quiver(x, y, dx, dy, angles='xy', scale_units='xy', scale=1, color='r', label='')\n",
    "\n",
    "Les deux premiers paramètres x et y sont les grandeurs (de même dimension) dont les valeurs représentent respectivement les abscisses et les ordonnées des points origines des vecteurs, les deux suivants (dx et dy qui doivent également avoir la même dimension que x et y) sont les coordonnées des ces vecteurs, indiquant leurs directions.\n",
    "\n",
    "L'option angles='xy' indique que l'orientation des vecteurs doit tenir compte des échelles en x et y du graphique.\n",
    "\n",
    "scale_units et scale agissent sur les normes des vecteurs : les valeurs par défaut sont telles que dx et dy représentent les coordonnées des vecteurs dans le plan $(Oxy)$ réellement affichés à l'écran. Mais si cela engendre des vecteurs illisibles car trop courts ou trop longs, on peut agir sur leur échelle : la valeur indiquée dans scale est la valeur de dx et de dy représentée par division (pour une unité de x et de y). Ainsi, scale=2 tracera des vecteurs 2 fois plus petits, alors que scale=.25 tracera des vecteurs 4 fois plus longs. On peut aussi supprimer les options scale_units et scale pour laisser python adapter lui-même l'échelle afin de représenter des vecteurs de taille raisonnable.\n",
    "\n",
    "Les options color et label fonctionnent comme pour la fonction plot."
   ]
  },
  {
   "cell_type": "markdown",
   "metadata": {},
   "source": [
    "Calculs statistiques (moyenne, écart-type et incertitude-type) sur une série de mesures x :"
   ]
  },
  {
   "cell_type": "raw",
   "metadata": {
    "jupyter": {
     "source_hidden": true
    }
   },
   "source": [
    "mean() calcule la valeur moyenne pour la variable placée en argument.\n",
    "std() calcule l'écart-type des valeurs de la variable en argument. ddof=1 permet de calculer l'écart-type expérimental Sn-1\n",
    "L'incertitude-type se calcule en divisant l'écart-type par la racine carrée (sqrt) du nombre de mesures (len())."
   ]
  },
  {
   "cell_type": "markdown",
   "metadata": {},
   "source": [
    "Affichage des valeurs :"
   ]
  },
  {
   "cell_type": "raw",
   "metadata": {
    "jupyter": {
     "source_hidden": true
    }
   },
   "source": [
    "La fonction print() affiche le texte donné en argument.\n",
    "Si ce texte contient des valeurs de variables, on peut commencer par f\" et écrire le nom des variables entre accolades sous la forme {variable:nombre total de chiffres.Nombre de chiffres après la virgule f}"
   ]
  },
  {
   "cell_type": "markdown",
   "metadata": {},
   "source": [
    "Tracé de l'histogramme :"
   ]
  },
  {
   "cell_type": "raw",
   "metadata": {
    "jupyter": {
     "source_hidden": true
    }
   },
   "source": [
    "La commande hist trace un graphique représentant l'histogramme de la grandeur x. Les options possibles à ajouter dans les arguments sont (par exemple) range=(0,10) pour limiter le graphique entre 2 valeurs, ainsi que (par exemple) bins=5 qui donnerait 5 intervalles et donc 5 barres de largeurs égales, ou bins=[3,4,6,7,10,11] qui permet de spécifier les intervalles à utiliser (dans cet exemple, des intervalles inégaux donneraient des barres de largeurs différentes).\n",
    "\n",
    "Si on ne précise pas ces valeurs, python choisit lui-même les valeurs les plus adaptées.\n",
    "\n",
    "La personnalisation du graphique peut se faire en changeant la taille du graphique affiché, en ajoutant un titre : title(\"Ici j'écris mon titre\"), en affichant la légende pour chaque courbe : legend() sans argument, en mettant des noms sur les axes : xlabel(\"le nom de l'abscisse\") et ylabel(\"le nom de l'ordonnée\"), en forçant les échelles à être identiques sur chaque axe : axis('equal'), et en affichant une grille : grid()."
   ]
  }
 ],
 "metadata": {
  "kernelspec": {
   "display_name": "Python 3",
   "language": "python",
   "name": "python3"
  },
  "language_info": {
   "codemirror_mode": {
    "name": "ipython",
    "version": 3
   },
   "file_extension": ".py",
   "mimetype": "text/x-python",
   "name": "python",
   "nbconvert_exporter": "python",
   "pygments_lexer": "ipython3",
   "version": "3.11.4"
  },
  "widgets": {
   "application/vnd.jupyter.widget-state+json": {
    "state": {},
    "version_major": 2,
    "version_minor": 0
   }
  }
 },
 "nbformat": 4,
 "nbformat_minor": 4
}
