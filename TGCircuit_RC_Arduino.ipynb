{
 "cells": [
  {
   "cell_type": "markdown",
   "metadata": {
    "editable": true,
    "tags": []
   },
   "source": [
    "# Étude d'un circuit RC avec Arduino\n",
    "\n",
    "Ce notebook permet de suivre l'évolution de la tension aux bornes d'un condensateur après une modification de la tension délivrée par une voie numérique. Il utilise directement le code `acquisition_continue.ino` téléversé sur la carte Arduino."
   ]
  },
  {
   "cell_type": "code",
   "execution_count": null,
   "metadata": {
    "editable": true,
    "tags": [
     "remove_cell"
    ]
   },
   "outputs": [],
   "source": [
    "# Import des bibliothèques nécessaires\n",
    "%run /home/laurent/fichiers_python/Import_bibliotheques.ipynb\n",
    "%run /home/laurent/fichiers_python/Arduino.ipynb"
   ]
  },
  {
   "cell_type": "markdown",
   "metadata": {
    "editable": true,
    "tags": []
   },
   "source": [
    "## Conditions expérimentales :"
   ]
  },
  {
   "cell_type": "code",
   "execution_count": null,
   "metadata": {
    "editable": true,
    "tags": []
   },
   "outputs": [],
   "source": [
    "charge = 1    # mettre 1 pour la charge du condensateur, et 0 pour sa décharge\n",
    "duree = 0.2    # Entrer la durée d'acquisition désirée en s\n",
    "Analog_pin = 0    # numéro de la voie de mesure analogique (déjà configurée dans le code Arduino)\n",
    "Digital_pin = 2    # numéro de la voie de commande digitale (doit être entre 2 et 5 pour notre code Arduino)"
   ]
  },
  {
   "cell_type": "markdown",
   "metadata": {
    "editable": true,
    "tags": []
   },
   "source": [
    "## Connexion à Arduino et acquisition des données"
   ]
  },
  {
   "cell_type": "code",
   "execution_count": null,
   "metadata": {
    "editable": true,
    "tags": []
   },
   "outputs": [],
   "source": [
    "# Initialisation des listes pour stocker les données\n",
    "uc = []\n",
    "t = []\n",
    "\n",
    "# Détection et connexion à l'Arduino\n",
    "try:\n",
    "    connexion_arduino()\n",
    "    print(\"Connexion établie avec Arduino\")\n",
    "except Exception as e:\n",
    "    print(f\"Erreur de connexion: {e}\")\n",
    "    raise"
   ]
  },
  {
   "cell_type": "code",
   "execution_count": null,
   "metadata": {
    "editable": true,
    "tags": []
   },
   "outputs": [],
   "source": [
    "# Fonction pour basculer une broche digitale\n",
    "def set_digital_pin(pin, state):\n",
    "    command = f\"D{pin}:{state}\\n\"\n",
    "    ser.write(command.encode())\n",
    "    response = ser.readline().decode().strip()\n",
    "    print(f\"Réponse Arduino: {response}\")"
   ]
  },
  {
   "cell_type": "code",
   "execution_count": null,
   "metadata": {
    "editable": true,
    "tags": []
   },
   "outputs": [],
   "source": [
    "# Préparation de l'acquisition\n",
    "print(f\"Condition initiale: {'charge' if charge == 1 else 'décharge'}\")\n",
    "\n",
    "# Mise en place de la condition initiale (inverse de ce qu'on va faire ensuite)\n",
    "set_digital_pin(Digital_pin, 1 - charge)\n",
    "sleep(0.5)  # Attente pour stabilisation\n",
    "\n",
    "# Vidage du buffer série\n",
    "ser.reset_input_buffer()\n",
    "\n",
    "# Démarrage de l'acquisition\n",
    "print(f\"Début de l'acquisition pour {duree} secondes...\")\n",
    "debut = time()\n",
    "\n",
    "# Basculement de la broche digitale pour démarrer la charge/décharge\n",
    "set_digital_pin(Digital_pin, charge)\n",
    "\n",
    "# Acquisition des données pendant la durée spécifiée\n",
    "while time() - debut < duree:\n",
    "    try:\n",
    "        ligne = ser.readline().decode('utf-8').strip()\n",
    "        if ligne and ',' in ligne:\n",
    "            valeurs = ligne.split(',')\n",
    "            if len(valeurs) == 2:\n",
    "                temps_ms = int(valeurs[0])\n",
    "                tension = float(valeurs[1])\n",
    "                if len(t) == 0:\n",
    "                    temps_initial = temps_ms\n",
    "                temps_relatif = (temps_ms - temps_initial) / 1000.0  # Conversion en secondes\n",
    "                t.append(temps_relatif)\n",
    "                uc.append(tension)\n",
    "    except Exception as e:\n",
    "        print(f\"Erreur lors de la lecture: {e}\")\n",
    "        continue\n",
    "\n",
    "print(f\"Acquisition terminée. {len(t)} points collectés.\")\n",
    "\n",
    "# Conversion des listes en tableaux numpy\n",
    "t = array(t)\n",
    "uc = array(uc)"
   ]
  },
  {
   "cell_type": "markdown",
   "metadata": {
    "editable": true,
    "tags": []
   },
   "source": [
    "## Calcul des caractéristiques de la courbe de régression"
   ]
  },
  {
   "cell_type": "code",
   "execution_count": null,
   "metadata": {
    "editable": true,
    "tags": []
   },
   "outputs": [],
   "source": [
    "# Définition des contraintes pour le modèle\n",
    "if charge == 0:\n",
    "    equation = \"E * exp(-1 * t / tau)\"\n",
    "else:\n",
    "    equation = \"E * (1 - exp(-1 * t / tau))\"\n",
    "\n",
    "# Contraintes sous forme de liste de tuples (nom_paramètre, valeur_initiale, vary, min, max)\n",
    "contraintes = [\n",
    "    ('tau', 1, True, 0, inf),\n",
    "    ('E', 5, True, 0, 5.5)\n",
    "]\n",
    "\n",
    "# Calcul du modèle\n",
    "xMod, yMod, expression, valeurs, abscisse, ordonnee, modele, parametres = Calcul_modele(\n",
    "    't',           # abscisse\n",
    "    'uc',          # ordonnée\n",
    "    equation,      # équation\n",
    "    0,             # début de la plage de données à utiliser\n",
    "    len(t),        # fin de la plage de données à utiliser\n",
    "    None,          # début de la courbe du modèle (None = min des données)\n",
    "    None,          # fin de la courbe du modèle (None = max des données)\n",
    "    contraintes    # contraintes sur les paramètres\n",
    ")"
   ]
  },
  {
   "cell_type": "markdown",
   "metadata": {
    "editable": true,
    "tags": []
   },
   "source": [
    "## Tracé du graphique"
   ]
  },
  {
   "cell_type": "code",
   "execution_count": null,
   "metadata": {
    "editable": true,
    "tags": []
   },
   "outputs": [],
   "source": [
    "figure(figsize=(10, 6))\n",
    "\n",
    "# Tracé des points expérimentaux :\n",
    "plot(abscisse, ordonnee, '+', label=\"Points expérimentaux\")\n",
    "\n",
    "# Tracé du modèle :\n",
    "plot(xMod, yMod, '-', label=f\"Modèle :    {expression} \\n {valeurs}\")\n",
    "\n",
    "grid()    # ajoute une grille\n",
    "legend()    # ajoute la légende au graphique\n",
    "title(\"Variation de la tension aux bornes du condensateur\")\n",
    "xlabel(\"t (s)\")\n",
    "ylabel(\"uc (V)\")\n",
    "show()"
   ]
  },
  {
   "cell_type": "markdown",
   "metadata": {
    "editable": true,
    "tags": []
   },
   "source": [
    "## Calcul de la valeur de la capacité du condensateur"
   ]
  },
  {
   "cell_type": "code",
   "execution_count": null,
   "metadata": {
    "editable": true,
    "tags": []
   },
   "outputs": [],
   "source": [
    "R = 220    # Entrer la valeur de la résistance en Ohm\n",
    "c = tau / R\n",
    "print(f\"La valeur de la capacité du condensateur est {c:.3g} F\")"
   ]
  },
  {
   "cell_type": "code",
   "execution_count": null,
   "metadata": {
    "editable": true,
    "tags": []
   },
   "outputs": [],
   "source": [
    "# Fermeture de la connexion série\n",
    "ser.close()\n",
    "print(\"Connexion avec Arduino fermée.\")"
   ]
  }
 ],
 "metadata": {
  "kernelspec": {
   "display_name": "Python 3 (ipykernel)",
   "language": "python",
   "name": "python3"
  },
  "language_info": {
   "codemirror_mode": {
    "name": "ipython",
    "version": 3
   },
   "file_extension": ".py",
   "mimetype": "text/x-python",
   "name": "python",
   "nbconvert_exporter": "python",
   "pygments_lexer": "ipython3",
   "version": "3.10.12"
  }
 },
 "nbformat": 4,
 "nbformat_minor": 4
}
