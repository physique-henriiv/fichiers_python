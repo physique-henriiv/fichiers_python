{
 "cells": [
  {
   "cell_type": "markdown",
   "metadata": {
    "editable": true,
    "slideshow": {
     "slide_type": ""
    },
    "tags": [
     "remove_cell"
    ]
   },
   "source": [
    "On commence par importer les bibliothèques nécessaires. Attention : NE PAS EFFACER !"
   ]
  },
  {
   "cell_type": "code",
   "execution_count": null,
   "metadata": {
    "editable": true,
    "slideshow": {
     "slide_type": ""
    },
    "tags": [
     "remove_cell"
    ]
   },
   "outputs": [],
   "source": [
    "%run Import_bibliotheques.ipynb"
   ]
  },
  {
   "cell_type": "markdown",
   "metadata": {},
   "source": [
    "Importation de tableaux enregistrés localement en fichiers csv :"
   ]
  },
  {
   "cell_type": "code",
   "execution_count": null,
   "metadata": {},
   "outputs": [],
   "source": [
    "tableurVersVariables('tableau.csv')    # indiquer le nom complet du fichier à lire si ce n'est pas 'tableau.csv'"
   ]
  },
  {
   "cell_type": "markdown",
   "metadata": {},
   "source": [
    "Calcul des variations, utile pour les vecteurs déplacement ou vitesse :"
   ]
  },
  {
   "cell_type": "code",
   "execution_count": null,
   "metadata": {},
   "outputs": [],
   "source": [
    "dx = gradient(x)    # calcule les variations Xi+1 - Xi-1 pour tous les points sauf le premier (Xi+1 - Xi) et le dernier (Xi - xi-1)\n",
    "dy = gradient(y)"
   ]
  },
  {
   "cell_type": "markdown",
   "metadata": {},
   "source": [
    "Tracé de graphique(s) à partir des tableaux précédents :"
   ]
  },
  {
   "cell_type": "code",
   "execution_count": null,
   "metadata": {},
   "outputs": [],
   "source": [
    "subplot(1, 1, 1)    # lignes, colonnes, numéro du graphique\n",
    "\n",
    "plot(x, y, '+', label=\"\")    # abscisse, ordonnée, options : + o . , s points   - -- -. : lignes  b g r y m c k w couleurs ; label est la légende associée à la courbe\n",
    "quiver(x,y,dx,dy,angles='xy',scale_units='inches',scale=0.5,width=0.005,color='r',label='')    # tracé de vecteurs, x et y sont les coordonnées de l'origine, dx et dy sont les coordonnées du vecteur\n",
    "#xlim=(-5,5)\n",
    "#ylim=(-5,5)\n",
    "axis('equal')\n",
    "#savefig(\"fig\",dpi=50)"
   ]
  }
 ],
 "metadata": {
  "kernelspec": {
   "display_name": "Python 3 (ipykernel)",
   "language": "python",
   "name": "python3"
  },
  "language_info": {
   "codemirror_mode": {
    "name": "ipython",
    "version": 3
   },
   "file_extension": ".py",
   "mimetype": "text/x-python",
   "name": "python",
   "nbconvert_exporter": "python",
   "pygments_lexer": "ipython3",
   "version": "3.10.12"
  },
  "widgets": {
   "application/vnd.jupyter.widget-state+json": {
    "state": {},
    "version_major": 2,
    "version_minor": 0
   }
  }
 },
 "nbformat": 4,
 "nbformat_minor": 4
}
